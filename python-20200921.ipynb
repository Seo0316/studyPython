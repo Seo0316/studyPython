{
 "cells": [
  {
   "cell_type": "code",
   "execution_count": 13,
   "metadata": {
    "collapsed": true
   },
   "outputs": [
    {
     "data": {
      "text/plain": [
       "['ArithmeticError',\n",
       " 'AssertionError',\n",
       " 'AttributeError',\n",
       " 'BaseException',\n",
       " 'BlockingIOError',\n",
       " 'BrokenPipeError',\n",
       " 'BufferError',\n",
       " 'BytesWarning',\n",
       " 'ChildProcessError',\n",
       " 'ConnectionAbortedError',\n",
       " 'ConnectionError',\n",
       " 'ConnectionRefusedError',\n",
       " 'ConnectionResetError',\n",
       " 'DeprecationWarning',\n",
       " 'EOFError',\n",
       " 'Ellipsis',\n",
       " 'EnvironmentError',\n",
       " 'Exception',\n",
       " 'False',\n",
       " 'FileExistsError',\n",
       " 'FileNotFoundError',\n",
       " 'FloatingPointError',\n",
       " 'FutureWarning',\n",
       " 'GeneratorExit',\n",
       " 'IOError',\n",
       " 'ImportError',\n",
       " 'ImportWarning',\n",
       " 'IndentationError',\n",
       " 'IndexError',\n",
       " 'InterruptedError',\n",
       " 'IsADirectoryError',\n",
       " 'KeyError',\n",
       " 'KeyboardInterrupt',\n",
       " 'LookupError',\n",
       " 'MemoryError',\n",
       " 'ModuleNotFoundError',\n",
       " 'NameError',\n",
       " 'None',\n",
       " 'NotADirectoryError',\n",
       " 'NotImplemented',\n",
       " 'NotImplementedError',\n",
       " 'OSError',\n",
       " 'OverflowError',\n",
       " 'PendingDeprecationWarning',\n",
       " 'PermissionError',\n",
       " 'ProcessLookupError',\n",
       " 'RecursionError',\n",
       " 'ReferenceError',\n",
       " 'ResourceWarning',\n",
       " 'RuntimeError',\n",
       " 'RuntimeWarning',\n",
       " 'StopAsyncIteration',\n",
       " 'StopIteration',\n",
       " 'SyntaxError',\n",
       " 'SyntaxWarning',\n",
       " 'SystemError',\n",
       " 'SystemExit',\n",
       " 'TabError',\n",
       " 'TimeoutError',\n",
       " 'True',\n",
       " 'TypeError',\n",
       " 'UnboundLocalError',\n",
       " 'UnicodeDecodeError',\n",
       " 'UnicodeEncodeError',\n",
       " 'UnicodeError',\n",
       " 'UnicodeTranslateError',\n",
       " 'UnicodeWarning',\n",
       " 'UserWarning',\n",
       " 'ValueError',\n",
       " 'Warning',\n",
       " 'WindowsError',\n",
       " 'ZeroDivisionError',\n",
       " '__IPYTHON__',\n",
       " '__build_class__',\n",
       " '__debug__',\n",
       " '__doc__',\n",
       " '__import__',\n",
       " '__loader__',\n",
       " '__name__',\n",
       " '__package__',\n",
       " '__spec__',\n",
       " 'abs',\n",
       " 'all',\n",
       " 'any',\n",
       " 'ascii',\n",
       " 'bin',\n",
       " 'bool',\n",
       " 'breakpoint',\n",
       " 'bytearray',\n",
       " 'bytes',\n",
       " 'callable',\n",
       " 'chr',\n",
       " 'classmethod',\n",
       " 'compile',\n",
       " 'complex',\n",
       " 'copyright',\n",
       " 'credits',\n",
       " 'delattr',\n",
       " 'dict',\n",
       " 'dir',\n",
       " 'display',\n",
       " 'divmod',\n",
       " 'enumerate',\n",
       " 'eval',\n",
       " 'exec',\n",
       " 'filter',\n",
       " 'float',\n",
       " 'format',\n",
       " 'frozenset',\n",
       " 'get_ipython',\n",
       " 'getattr',\n",
       " 'globals',\n",
       " 'hasattr',\n",
       " 'hash',\n",
       " 'help',\n",
       " 'hex',\n",
       " 'id',\n",
       " 'input',\n",
       " 'int',\n",
       " 'isinstance',\n",
       " 'issubclass',\n",
       " 'iter',\n",
       " 'len',\n",
       " 'license',\n",
       " 'list',\n",
       " 'locals',\n",
       " 'map',\n",
       " 'max',\n",
       " 'memoryview',\n",
       " 'min',\n",
       " 'next',\n",
       " 'object',\n",
       " 'oct',\n",
       " 'open',\n",
       " 'ord',\n",
       " 'pow',\n",
       " 'print',\n",
       " 'property',\n",
       " 'range',\n",
       " 'repr',\n",
       " 'reversed',\n",
       " 'round',\n",
       " 'set',\n",
       " 'setattr',\n",
       " 'slice',\n",
       " 'sorted',\n",
       " 'staticmethod',\n",
       " 'str',\n",
       " 'sum',\n",
       " 'super',\n",
       " 'tuple',\n",
       " 'type',\n",
       " 'vars',\n",
       " 'zip']"
      ]
     },
     "execution_count": 13,
     "metadata": {},
     "output_type": "execute_result"
    }
   ],
   "source": [
    "# 파이썬 내장함수(builtin function) 리스트 보기\n",
    "# 아무런 import도 없이 즉시 사용 가능한 함수들 \n",
    "#   - input, print, int, range, len, type, dir, help 등등\n",
    "# dir() : directory 약자로, 안내책자 역할, 객체가 가지고 있는 속성과 메소드를 보여줌\n",
    "dir(__builtins__) "
   ]
  },
  {
   "cell_type": "code",
   "execution_count": 8,
   "metadata": {
    "scrolled": false
   },
   "outputs": [
    {
     "name": "stdout",
     "output_type": "stream",
     "text": [
      "Help on built-in function print in module builtins:\n",
      "\n",
      "print(...)\n",
      "    print(value, ..., sep=' ', end='\\n', file=sys.stdout, flush=False)\n",
      "    \n",
      "    Prints the values to a stream, or to sys.stdout by default.\n",
      "    Optional keyword arguments:\n",
      "    file:  a file-like object (stream); defaults to the current sys.stdout.\n",
      "    sep:   string inserted between values, default a space.\n",
      "    end:   string appended after the last value, default a newline.\n",
      "    flush: whether to forcibly flush the stream.\n",
      "\n"
     ]
    }
   ],
   "source": [
    "# help 사용 or Shift + tap\n",
    "help(print)"
   ]
  },
  {
   "cell_type": "code",
   "execution_count": 11,
   "metadata": {
    "collapsed": true
   },
   "outputs": [
    {
     "data": {
      "text/plain": [
       "['AF_APPLETALK',\n",
       " 'AF_DECnet',\n",
       " 'AF_INET',\n",
       " 'AF_INET6',\n",
       " 'AF_IPX',\n",
       " 'AF_IRDA',\n",
       " 'AF_SNA',\n",
       " 'AF_UNSPEC',\n",
       " 'AI_ADDRCONFIG',\n",
       " 'AI_ALL',\n",
       " 'AI_CANONNAME',\n",
       " 'AI_NUMERICHOST',\n",
       " 'AI_NUMERICSERV',\n",
       " 'AI_PASSIVE',\n",
       " 'AI_V4MAPPED',\n",
       " 'AddressFamily',\n",
       " 'AddressInfo',\n",
       " 'CAPI',\n",
       " 'EAGAIN',\n",
       " 'EAI_AGAIN',\n",
       " 'EAI_BADFLAGS',\n",
       " 'EAI_FAIL',\n",
       " 'EAI_FAMILY',\n",
       " 'EAI_MEMORY',\n",
       " 'EAI_NODATA',\n",
       " 'EAI_NONAME',\n",
       " 'EAI_SERVICE',\n",
       " 'EAI_SOCKTYPE',\n",
       " 'EBADF',\n",
       " 'EWOULDBLOCK',\n",
       " 'INADDR_ALLHOSTS_GROUP',\n",
       " 'INADDR_ANY',\n",
       " 'INADDR_BROADCAST',\n",
       " 'INADDR_LOOPBACK',\n",
       " 'INADDR_MAX_LOCAL_GROUP',\n",
       " 'INADDR_NONE',\n",
       " 'INADDR_UNSPEC_GROUP',\n",
       " 'IPPORT_RESERVED',\n",
       " 'IPPORT_USERRESERVED',\n",
       " 'IPPROTO_AH',\n",
       " 'IPPROTO_CBT',\n",
       " 'IPPROTO_DSTOPTS',\n",
       " 'IPPROTO_EGP',\n",
       " 'IPPROTO_ESP',\n",
       " 'IPPROTO_FRAGMENT',\n",
       " 'IPPROTO_GGP',\n",
       " 'IPPROTO_HOPOPTS',\n",
       " 'IPPROTO_ICLFXBM',\n",
       " 'IPPROTO_ICMP',\n",
       " 'IPPROTO_ICMPV6',\n",
       " 'IPPROTO_IDP',\n",
       " 'IPPROTO_IGMP',\n",
       " 'IPPROTO_IGP',\n",
       " 'IPPROTO_IP',\n",
       " 'IPPROTO_IPV4',\n",
       " 'IPPROTO_IPV6',\n",
       " 'IPPROTO_L2TP',\n",
       " 'IPPROTO_MAX',\n",
       " 'IPPROTO_ND',\n",
       " 'IPPROTO_NONE',\n",
       " 'IPPROTO_PGM',\n",
       " 'IPPROTO_PIM',\n",
       " 'IPPROTO_PUP',\n",
       " 'IPPROTO_RAW',\n",
       " 'IPPROTO_RDP',\n",
       " 'IPPROTO_ROUTING',\n",
       " 'IPPROTO_SCTP',\n",
       " 'IPPROTO_ST',\n",
       " 'IPPROTO_TCP',\n",
       " 'IPPROTO_UDP',\n",
       " 'IPV6_CHECKSUM',\n",
       " 'IPV6_DONTFRAG',\n",
       " 'IPV6_HOPLIMIT',\n",
       " 'IPV6_HOPOPTS',\n",
       " 'IPV6_JOIN_GROUP',\n",
       " 'IPV6_LEAVE_GROUP',\n",
       " 'IPV6_MULTICAST_HOPS',\n",
       " 'IPV6_MULTICAST_IF',\n",
       " 'IPV6_MULTICAST_LOOP',\n",
       " 'IPV6_PKTINFO',\n",
       " 'IPV6_RECVRTHDR',\n",
       " 'IPV6_RECVTCLASS',\n",
       " 'IPV6_RTHDR',\n",
       " 'IPV6_TCLASS',\n",
       " 'IPV6_UNICAST_HOPS',\n",
       " 'IPV6_V6ONLY',\n",
       " 'IP_ADD_MEMBERSHIP',\n",
       " 'IP_DROP_MEMBERSHIP',\n",
       " 'IP_HDRINCL',\n",
       " 'IP_MULTICAST_IF',\n",
       " 'IP_MULTICAST_LOOP',\n",
       " 'IP_MULTICAST_TTL',\n",
       " 'IP_OPTIONS',\n",
       " 'IP_RECVDSTADDR',\n",
       " 'IP_TOS',\n",
       " 'IP_TTL',\n",
       " 'IntEnum',\n",
       " 'IntFlag',\n",
       " 'MSG_BCAST',\n",
       " 'MSG_CTRUNC',\n",
       " 'MSG_DONTROUTE',\n",
       " 'MSG_ERRQUEUE',\n",
       " 'MSG_MCAST',\n",
       " 'MSG_OOB',\n",
       " 'MSG_PEEK',\n",
       " 'MSG_TRUNC',\n",
       " 'MSG_WAITALL',\n",
       " 'MsgFlag',\n",
       " 'NI_DGRAM',\n",
       " 'NI_MAXHOST',\n",
       " 'NI_MAXSERV',\n",
       " 'NI_NAMEREQD',\n",
       " 'NI_NOFQDN',\n",
       " 'NI_NUMERICHOST',\n",
       " 'NI_NUMERICSERV',\n",
       " 'RCVALL_MAX',\n",
       " 'RCVALL_OFF',\n",
       " 'RCVALL_ON',\n",
       " 'RCVALL_SOCKETLEVELONLY',\n",
       " 'SHUT_RD',\n",
       " 'SHUT_RDWR',\n",
       " 'SHUT_WR',\n",
       " 'SIO_KEEPALIVE_VALS',\n",
       " 'SIO_LOOPBACK_FAST_PATH',\n",
       " 'SIO_RCVALL',\n",
       " 'SOCK_DGRAM',\n",
       " 'SOCK_RAW',\n",
       " 'SOCK_RDM',\n",
       " 'SOCK_SEQPACKET',\n",
       " 'SOCK_STREAM',\n",
       " 'SOL_IP',\n",
       " 'SOL_SOCKET',\n",
       " 'SOL_TCP',\n",
       " 'SOL_UDP',\n",
       " 'SOMAXCONN',\n",
       " 'SO_ACCEPTCONN',\n",
       " 'SO_BROADCAST',\n",
       " 'SO_DEBUG',\n",
       " 'SO_DONTROUTE',\n",
       " 'SO_ERROR',\n",
       " 'SO_EXCLUSIVEADDRUSE',\n",
       " 'SO_KEEPALIVE',\n",
       " 'SO_LINGER',\n",
       " 'SO_OOBINLINE',\n",
       " 'SO_RCVBUF',\n",
       " 'SO_RCVLOWAT',\n",
       " 'SO_RCVTIMEO',\n",
       " 'SO_REUSEADDR',\n",
       " 'SO_SNDBUF',\n",
       " 'SO_SNDLOWAT',\n",
       " 'SO_SNDTIMEO',\n",
       " 'SO_TYPE',\n",
       " 'SO_USELOOPBACK',\n",
       " 'SocketIO',\n",
       " 'SocketKind',\n",
       " 'SocketType',\n",
       " 'TCP_FASTOPEN',\n",
       " 'TCP_KEEPCNT',\n",
       " 'TCP_KEEPIDLE',\n",
       " 'TCP_KEEPINTVL',\n",
       " 'TCP_MAXSEG',\n",
       " 'TCP_NODELAY',\n",
       " '_GLOBAL_DEFAULT_TIMEOUT',\n",
       " '_GiveupOnSendfile',\n",
       " '_LOCALHOST',\n",
       " '_LOCALHOST_V6',\n",
       " '__all__',\n",
       " '__builtins__',\n",
       " '__cached__',\n",
       " '__doc__',\n",
       " '__file__',\n",
       " '__loader__',\n",
       " '__name__',\n",
       " '__package__',\n",
       " '__spec__',\n",
       " '_blocking_errnos',\n",
       " '_intenum_converter',\n",
       " '_realsocket',\n",
       " '_socket',\n",
       " 'close',\n",
       " 'create_connection',\n",
       " 'create_server',\n",
       " 'dup',\n",
       " 'errno',\n",
       " 'error',\n",
       " 'errorTab',\n",
       " 'fromfd',\n",
       " 'fromshare',\n",
       " 'gaierror',\n",
       " 'getaddrinfo',\n",
       " 'getdefaulttimeout',\n",
       " 'getfqdn',\n",
       " 'gethostbyaddr',\n",
       " 'gethostbyname',\n",
       " 'gethostbyname_ex',\n",
       " 'gethostname',\n",
       " 'getnameinfo',\n",
       " 'getprotobyname',\n",
       " 'getservbyname',\n",
       " 'getservbyport',\n",
       " 'has_dualstack_ipv6',\n",
       " 'has_ipv6',\n",
       " 'herror',\n",
       " 'htonl',\n",
       " 'htons',\n",
       " 'if_indextoname',\n",
       " 'if_nameindex',\n",
       " 'if_nametoindex',\n",
       " 'inet_aton',\n",
       " 'inet_ntoa',\n",
       " 'inet_ntop',\n",
       " 'inet_pton',\n",
       " 'io',\n",
       " 'ntohl',\n",
       " 'ntohs',\n",
       " 'os',\n",
       " 'selectors',\n",
       " 'setdefaulttimeout',\n",
       " 'socket',\n",
       " 'socketpair',\n",
       " 'sys',\n",
       " 'timeout']"
      ]
     },
     "execution_count": 11,
     "metadata": {},
     "output_type": "execute_result"
    }
   ],
   "source": [
    "# 파이썬 import한 라이브러리에 포함된 함수 리스트 보기, dir()\n",
    "import socket\n",
    "# print(dir(socket))\n",
    "dir(socket)"
   ]
  },
  {
   "cell_type": "code",
   "execution_count": 21,
   "metadata": {},
   "outputs": [
    {
     "name": "stdout",
     "output_type": "stream",
     "text": [
      "<module 'os' from 'C:\\\\anaconda3\\\\envs\\\\mydata\\\\lib\\\\os.py'>\n",
      "D:\\working\\python5\\etc\\Kongju\n",
      "D:\\working\\python5\\etc\n",
      "D:\\working\\python5\\etc\\Kongju\n"
     ]
    }
   ],
   "source": [
    "# import된 모듈의 경로 확인, 현재 working 경로, 경로 바꾸기, system command 실행\n",
    "import os\n",
    "print(os)    # import된 모듈의 경로 확인\n",
    "print(os.getcwd())      # Return the current working directory\n",
    "os.chdir('D:\\\\working\\\\python5\\\\etc')   # Change current working directory\n",
    "print(os.getcwd())\n",
    "os.chdir('D:\\\\working\\\\python5\\\\etc\\\\Kongju')\n",
    "print(os.getcwd())\n",
    "# os.system('mkdir today')   # Run the command mkdir in the system shell"
   ]
  },
  {
   "cell_type": "markdown",
   "metadata": {},
   "source": [
    "windows10, sub system 리눅스 쉡에서 jupyter notebook 사용법\n",
    "   $ jupyter notebook --no-browser\n",
    "   .......\n",
    "      http://localhost:8888/?token... \n",
    "      이 부분을 copy하여 윈도우 chrome에 붙여넣기하면 됨"
   ]
  },
  {
   "cell_type": "markdown",
   "metadata": {},
   "source": [
    "o 순서있고(index, slicing 가능), 수정 가능 : list, str\n",
    "o 순서있고(index, slicing 가능), 수정 불가 : tuple\n",
    "o 순서없고, 수정 가능 : dict, set\n",
    "               set은 순서없고, 집합안에서 unique 값\n",
    "o dict는 immutable(불변)한 key와 mutable한 value으로 맵핑\n",
    "        되어 있는 순서가 없는 집합"
   ]
  },
  {
   "cell_type": "code",
   "execution_count": 22,
   "metadata": {},
   "outputs": [
    {
     "name": "stdout",
     "output_type": "stream",
     "text": [
      "9\n",
      "[6, 2, 3, 1, 5, 4, 9, 7, 8, 7]\n",
      "4\n",
      "[6, 2, 3, 1, 5, 9, 7, 8, 7]\n",
      "[6, 2, 10, 3, 1, 5, 9, 7, 8, 7]\n",
      "True\n",
      "False\n",
      "[]\n"
     ]
    }
   ],
   "source": [
    "# 자주 사용하는 list 함수\n",
    "myL = [6, 2, 3, 1, 5, 4, 9, 7, 8]\n",
    "\n",
    "print(len(myL))  # 리스트내 원소 갯수\n",
    "myL.append(7)    # 리스트 맨 뒤에 추가\n",
    "print(myL)\n",
    "print(myL.pop(5)) # 리스트 index i번 값을 빼서 리턴함\n",
    "                  # i를 지정하지 않으면, list 맨 뒤값\n",
    "print(myL)\n",
    "myL.insert(2, 10) # insert(i, x), i번 index에 x값을 추가\n",
    "print(myL)\n",
    "print(3 in myL)   # x in a, x가 리스트 a에 있으면 True\n",
    "print(3 not in myL)  # x not in a, x가 리스트 a에 없으면 True\n",
    "myL.clear()       # 리스트 모든 자료 삭제\n",
    "print(myL)"
   ]
  },
  {
   "cell_type": "code",
   "execution_count": 23,
   "metadata": {},
   "outputs": [
    {
     "name": "stdout",
     "output_type": "stream",
     "text": [
      "5\n",
      "{1, 2, 3, 5, 7}\n",
      "{1, 2, 3, 5, 7, 9}\n",
      "{1, 2, 3, 5, 7, 9}\n",
      "{2, 3, 5, 7, 9}\n",
      "{2, 3, 5, 7, 9}\n",
      "True\n",
      "False\n",
      "set()\n"
     ]
    }
   ],
   "source": [
    "# 자주 사용하는 set 함수\n",
    "myS = {5, 7, 5, 2, 3, 5, 1}   # myS = set()\n",
    "\n",
    "print(len(myS))  # set내 원소 갯수, 중복된 값은 자동 제거\n",
    "print(myS)   # 순서가 없으며, 어떤 값이 먼저 나올지 모름\n",
    "myS.add(9)   # 집합에 자료 추가 (중복 입력 불가, 반응없음)\n",
    "print(myS)\n",
    "myS.add(9)\n",
    "print(myS)\n",
    "# myS.insert(0, 11)  # syntax 에러, 순서 없으므로 index 안됨\n",
    "# print(myS)\n",
    "myS.discard(1)  # 집합에 x 값 삭제, 없으면 변화없음\n",
    "print(myS)\n",
    "myS.discard(11)\n",
    "print(myS)\n",
    "print(3 in myS)   # x in a, x가 리스트 a에 있으면 True\n",
    "print(3 not in myS)  # x not in a, x가 리스트 a에 없으면 True\n",
    "myS.clear()\n",
    "print(myS)"
   ]
  },
  {
   "cell_type": "code",
   "execution_count": 24,
   "metadata": {},
   "outputs": [
    {
     "name": "stdout",
     "output_type": "stream",
     "text": [
      "[3, 7, 1, 5, 9] [1, 3, 5, 7, 9]\n",
      "[1, 3, 5, 7, 9]\n"
     ]
    }
   ],
   "source": [
    "# 파이썬의 정렬 함수, sorted() vs sort()\n",
    "myL2 = [3, 7, 1, 5, 9]\n",
    "mm = sorted(myL2) # sorted() 함수는 정렬된 새로운 리스트를 리턴\n",
    "print(myL2, mm)\n",
    "myL2.sort()       # sort() 함수는 정렬대상 리스트 자체를 정렬\n",
    "print(myL2)"
   ]
  },
  {
   "cell_type": "code",
   "execution_count": 25,
   "metadata": {},
   "outputs": [
    {
     "name": "stdout",
     "output_type": "stream",
     "text": [
      "4\n",
      "mm\n",
      "{'a': 'mm', 2: 'hong', 3: 33, 'city': 'seoul'}\n",
      "{'a': 'mm', 2: 'hong', 3: 300, 'city': 'seoul', 4: 'dong', (3, 5): 111}\n",
      "{2: 'hong', 3: 300, 'city': 'seoul', 4: 'dong', (3, 5): 111}\n",
      "True\n",
      "False\n"
     ]
    }
   ],
   "source": [
    "# 자주 사용하는 딕셔너리 함수, {key:value}\n",
    "myD = {\"a\": \"mm\", 2: \"hong\", 3: 33, \"city\":\"seoul\"}\n",
    "\n",
    "print(len(myD))  # dict 길이(자료의 개수)\n",
    "print(myD[\"a\"])  # key에 해당하는 값 리턴\n",
    "print(myD)\n",
    "myD[3] = 300     # key에 value를 저장\n",
    "                 # key가 없으면 새로 만들고\n",
    "                 # key가 있으면 새로운 value값으로 덮어쓴다\n",
    "myD[4] = 'dong'\n",
    "myD[(3,5)] = 111  # 불변하는 tuple은 key로 가능\n",
    "print(myD)\n",
    "del(myD['a'])    # key:value 삭제, key 없으면 오류\n",
    "# del(myD[55])\n",
    "print(myD)\n",
    "# myD.del[2]    # syntax 오류\n",
    "# print(myD)\n",
    "print('city' in myD)  # key in d, key있으면 True\n",
    "print('city' not in myD)  # key not in d, key 없으면 True"
   ]
  },
  {
   "cell_type": "code",
   "execution_count": 27,
   "metadata": {},
   "outputs": [
    {
     "name": "stdout",
     "output_type": "stream",
     "text": [
      "abcdef\n",
      "d abc\n",
      "abcdefghi\n",
      "abcjdef\n"
     ]
    }
   ],
   "source": [
    "sss = 'abcdef'\n",
    "\n",
    "print(sss)\n",
    "print(sss[3], sss[:3])\n",
    "print(sss + 'ghi')\n",
    "ss1 = sss[:3] + 'j' + sss[3:]\n",
    "print(ss1)"
   ]
  },
  {
   "cell_type": "markdown",
   "metadata": {},
   "source": [
    "=== class ==="
   ]
  },
  {
   "cell_type": "code",
   "execution_count": 31,
   "metadata": {},
   "outputs": [],
   "source": [
    "# class 만들기 : 속성 and 메서드 정의하기\n",
    "class Human1 :\n",
    "    def greeting(self) :\n",
    "        print(\"안녕하세요\")"
   ]
  },
  {
   "cell_type": "code",
   "execution_count": 32,
   "metadata": {},
   "outputs": [
    {
     "name": "stdout",
     "output_type": "stream",
     "text": [
      "안녕하세요\n"
     ]
    }
   ],
   "source": [
    "# instance 생성\n",
    "h1 = Human1()\n",
    "h1.greeting()"
   ]
  },
  {
   "cell_type": "code",
   "execution_count": 38,
   "metadata": {},
   "outputs": [],
   "source": [
    "class Human2 :\n",
    "    def greeting(self) :\n",
    "        print(\"안녕하세요\")\n",
    "    def sing_a_song(self) :\n",
    "        self.greeting()\n",
    "        print('랄라라라라라')"
   ]
  },
  {
   "cell_type": "code",
   "execution_count": 39,
   "metadata": {},
   "outputs": [
    {
     "name": "stdout",
     "output_type": "stream",
     "text": [
      "안녕하세요\n",
      "안녕하세요\n",
      "랄라라라라라\n"
     ]
    }
   ],
   "source": [
    "h2 = Human2()\n",
    "h2.greeting()\n",
    "h2.sing_a_song()"
   ]
  },
  {
   "cell_type": "code",
   "execution_count": 40,
   "metadata": {},
   "outputs": [],
   "source": [
    "# class 속성 초기화, 잘못된 예\n",
    "\n",
    "class Human3 :\n",
    "    def __init__(self) :\n",
    "        self.name = '나사람'\n",
    "        self.age = 20\n",
    "        self.city = 'busan'\n",
    "\n",
    "    def greeting(self) :\n",
    "        print(\"안녕하세요\")\n",
    "    def sing_a_song(self) :\n",
    "        self.greeting()\n",
    "        print('랄라라라라라')"
   ]
  },
  {
   "cell_type": "code",
   "execution_count": 44,
   "metadata": {},
   "outputs": [
    {
     "name": "stdout",
     "output_type": "stream",
     "text": [
      "나사람 나사람\n",
      "20 20\n"
     ]
    }
   ],
   "source": [
    "h31 = Human3()\n",
    "h32 = Human3()\n",
    "print(h31.name, h32.name)\n",
    "print(h31.age, h32.age)"
   ]
  },
  {
   "cell_type": "code",
   "execution_count": 45,
   "metadata": {},
   "outputs": [],
   "source": [
    "# class 속성 초기화\n",
    "\n",
    "class Human4 :\n",
    "\n",
    "    def __init__(self, name, age, city) :\n",
    "        self.name = name\n",
    "        self.age = age\n",
    "        self.city = city\n",
    "    def greeting(self) :\n",
    "        print(\"안녕하세요\")\n",
    "    def sing_a_song(self) :\n",
    "        self.greeting()\n",
    "        print('랄라라라라라')"
   ]
  },
  {
   "cell_type": "code",
   "execution_count": 47,
   "metadata": {},
   "outputs": [
    {
     "name": "stdout",
     "output_type": "stream",
     "text": [
      "나이름 나도이름\n",
      "22 23\n",
      "안녕하세요\n",
      "안녕하세요\n"
     ]
    }
   ],
   "source": [
    "h41 = Human4('나이름', 22, 'seoul')\n",
    "h42 = Human4('나도이름', 23, 'daejeon')\n",
    "print(h41.name, h42.name)\n",
    "print(h41.age, h42.age)\n",
    "h41.greeting()\n",
    "h42.greeting()"
   ]
  },
  {
   "cell_type": "code",
   "execution_count": 48,
   "metadata": {},
   "outputs": [],
   "source": [
    "# 클래스 속성 추가\n",
    "\n",
    "class Human5 :\n",
    "    gender = ''\n",
    "    items = []\n",
    "    def __init__(self, name, age, city) :\n",
    "        self.name = name\n",
    "        self.age = age\n",
    "        self.city = city\n",
    "    def greeting(self) :\n",
    "        print(\"안녕하세요\")\n",
    "    def sing_a_song(self) :\n",
    "        self.greeting()\n",
    "        print('랄라라라라라')"
   ]
  },
  {
   "cell_type": "markdown",
   "metadata": {},
   "source": [
    "https://zzsza.github.io/development/2020/07/05/python-class/"
   ]
  },
  {
   "cell_type": "code",
   "execution_count": null,
   "metadata": {},
   "outputs": [],
   "source": []
  }
 ],
 "metadata": {
  "kernelspec": {
   "display_name": "Python 3",
   "language": "python",
   "name": "python3"
  },
  "language_info": {
   "codemirror_mode": {
    "name": "ipython",
    "version": 3
   },
   "file_extension": ".py",
   "mimetype": "text/x-python",
   "name": "python",
   "nbconvert_exporter": "python",
   "pygments_lexer": "ipython3",
   "version": "3.7.7"
  }
 },
 "nbformat": 4,
 "nbformat_minor": 4
}
