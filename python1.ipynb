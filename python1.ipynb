{
 "cells": [
  {
   "cell_type": "code",
   "execution_count": 6,
   "metadata": {},
   "outputs": [
    {
     "data": {
      "text/plain": [
       "['ArithmeticError',\n",
       " 'AssertionError',\n",
       " 'AttributeError',\n",
       " 'BaseException',\n",
       " 'BlockingIOError',\n",
       " 'BrokenPipeError',\n",
       " 'BufferError',\n",
       " 'BytesWarning',\n",
       " 'ChildProcessError',\n",
       " 'ConnectionAbortedError',\n",
       " 'ConnectionError',\n",
       " 'ConnectionRefusedError',\n",
       " 'ConnectionResetError',\n",
       " 'DeprecationWarning',\n",
       " 'EOFError',\n",
       " 'Ellipsis',\n",
       " 'EnvironmentError',\n",
       " 'Exception',\n",
       " 'False',\n",
       " 'FileExistsError',\n",
       " 'FileNotFoundError',\n",
       " 'FloatingPointError',\n",
       " 'FutureWarning',\n",
       " 'GeneratorExit',\n",
       " 'IOError',\n",
       " 'ImportError',\n",
       " 'ImportWarning',\n",
       " 'IndentationError',\n",
       " 'IndexError',\n",
       " 'InterruptedError',\n",
       " 'IsADirectoryError',\n",
       " 'KeyError',\n",
       " 'KeyboardInterrupt',\n",
       " 'LookupError',\n",
       " 'MemoryError',\n",
       " 'ModuleNotFoundError',\n",
       " 'NameError',\n",
       " 'None',\n",
       " 'NotADirectoryError',\n",
       " 'NotImplemented',\n",
       " 'NotImplementedError',\n",
       " 'OSError',\n",
       " 'OverflowError',\n",
       " 'PendingDeprecationWarning',\n",
       " 'PermissionError',\n",
       " 'ProcessLookupError',\n",
       " 'RecursionError',\n",
       " 'ReferenceError',\n",
       " 'ResourceWarning',\n",
       " 'RuntimeError',\n",
       " 'RuntimeWarning',\n",
       " 'StopAsyncIteration',\n",
       " 'StopIteration',\n",
       " 'SyntaxError',\n",
       " 'SyntaxWarning',\n",
       " 'SystemError',\n",
       " 'SystemExit',\n",
       " 'TabError',\n",
       " 'TimeoutError',\n",
       " 'True',\n",
       " 'TypeError',\n",
       " 'UnboundLocalError',\n",
       " 'UnicodeDecodeError',\n",
       " 'UnicodeEncodeError',\n",
       " 'UnicodeError',\n",
       " 'UnicodeTranslateError',\n",
       " 'UnicodeWarning',\n",
       " 'UserWarning',\n",
       " 'ValueError',\n",
       " 'Warning',\n",
       " 'WindowsError',\n",
       " 'ZeroDivisionError',\n",
       " '__IPYTHON__',\n",
       " '__build_class__',\n",
       " '__debug__',\n",
       " '__doc__',\n",
       " '__import__',\n",
       " '__loader__',\n",
       " '__name__',\n",
       " '__package__',\n",
       " '__spec__',\n",
       " 'abs',\n",
       " 'all',\n",
       " 'any',\n",
       " 'ascii',\n",
       " 'bin',\n",
       " 'bool',\n",
       " 'breakpoint',\n",
       " 'bytearray',\n",
       " 'bytes',\n",
       " 'callable',\n",
       " 'chr',\n",
       " 'classmethod',\n",
       " 'compile',\n",
       " 'complex',\n",
       " 'copyright',\n",
       " 'credits',\n",
       " 'delattr',\n",
       " 'dict',\n",
       " 'dir',\n",
       " 'display',\n",
       " 'divmod',\n",
       " 'enumerate',\n",
       " 'eval',\n",
       " 'exec',\n",
       " 'filter',\n",
       " 'float',\n",
       " 'format',\n",
       " 'frozenset',\n",
       " 'get_ipython',\n",
       " 'getattr',\n",
       " 'globals',\n",
       " 'hasattr',\n",
       " 'hash',\n",
       " 'help',\n",
       " 'hex',\n",
       " 'id',\n",
       " 'input',\n",
       " 'int',\n",
       " 'isinstance',\n",
       " 'issubclass',\n",
       " 'iter',\n",
       " 'len',\n",
       " 'license',\n",
       " 'list',\n",
       " 'locals',\n",
       " 'map',\n",
       " 'max',\n",
       " 'memoryview',\n",
       " 'min',\n",
       " 'next',\n",
       " 'object',\n",
       " 'oct',\n",
       " 'open',\n",
       " 'ord',\n",
       " 'pow',\n",
       " 'print',\n",
       " 'property',\n",
       " 'range',\n",
       " 'repr',\n",
       " 'reversed',\n",
       " 'round',\n",
       " 'set',\n",
       " 'setattr',\n",
       " 'slice',\n",
       " 'sorted',\n",
       " 'staticmethod',\n",
       " 'str',\n",
       " 'sum',\n",
       " 'super',\n",
       " 'tuple',\n",
       " 'type',\n",
       " 'vars',\n",
       " 'zip']"
      ]
     },
     "execution_count": 6,
     "metadata": {},
     "output_type": "execute_result"
    }
   ],
   "source": [
    "# 파이썬 내장함수(builtin function) 리스트 보기\n",
    "# 아무런 import도 없이 즉시 사용 가능한 함수들 \n",
    "#   - input, print, int, range, len, type, dir, help 등등\n",
    "dir(__builtins__)"
   ]
  },
  {
   "cell_type": "code",
   "execution_count": null,
   "metadata": {},
   "outputs": [],
   "source": []
  },
  {
   "cell_type": "markdown",
   "metadata": {},
   "source": [
    "windows10, sub system 리눅스 쉡에서 jupyter notebook 사용법\n",
    "   $ jupyter notebook --no-browser\n",
    "   .......\n",
    "      http://localhost:8888/?token... \n",
    "      이 부분을 copy하여 윈도우 chrome에 붙여넣기하면 됨"
   ]
  },
  {
   "cell_type": "code",
   "execution_count": 1,
   "metadata": {},
   "outputs": [
    {
     "name": "stdout",
     "output_type": "stream",
     "text": [
      "9\n",
      "[6, 2, 3, 1, 5, 4, 9, 7, 8, 7]\n",
      "4\n",
      "[6, 2, 3, 1, 5, 9, 7, 8, 7]\n",
      "[6, 2, 10, 3, 1, 5, 9, 7, 8, 7]\n",
      "True\n",
      "False\n",
      "[]\n"
     ]
    }
   ],
   "source": [
    "# 자주 사용하는 list 함수\n",
    "myL = [6, 2, 3, 1, 5, 4, 9, 7, 8]\n",
    "\n",
    "print(len(myL))  # 리스트내 원소 갯수\n",
    "myL.append(7)    # 리스트 맨 뒤에 추가\n",
    "print(myL)\n",
    "print(myL.pop(5)) # 리스트 index i번 값을 빼서 리턴함\n",
    "                  # i를 지정하지 않으면, list 맨 뒤값\n",
    "print(myL)\n",
    "myL.insert(2, 10) # insert(i, x), i번 index에 x값을 추가\n",
    "print(myL)\n",
    "print(3 in myL)   # x in a, x가 리스트 a에 있으면 True\n",
    "print(3 not in myL)  # x not in a, x가 리스트 a에 없으면 True\n",
    "myL.clear()       # 리스트 모든 자료 삭제\n",
    "print(myL)"
   ]
  },
  {
   "cell_type": "code",
   "execution_count": 2,
   "metadata": {},
   "outputs": [
    {
     "name": "stdout",
     "output_type": "stream",
     "text": [
      "5\n",
      "{1, 2, 3, 5, 7}\n",
      "{1, 2, 3, 5, 7, 9}\n",
      "{1, 2, 3, 5, 7, 9}\n",
      "{2, 3, 5, 7, 9}\n",
      "{2, 3, 5, 7, 9}\n",
      "True\n",
      "False\n",
      "set()\n"
     ]
    }
   ],
   "source": [
    "# 자주 사용하는 set 함수\n",
    "myS = {5, 7, 5, 2, 3, 5, 1}   # myS = set()\n",
    "\n",
    "print(len(myS))  # set내 원소 갯수, 중복된 값은 자동 제거\n",
    "print(myS)   # 순서가 없으며, 어떤 값이 먼저 나올지 모름\n",
    "myS.add(9)   # 집합에 자료 추가 (중복 입력 불가, 반응없음)\n",
    "print(myS)\n",
    "myS.add(9)\n",
    "print(myS)\n",
    "# myS.insert(0, 11)  # syntax 에러, 순서 없으므로 index 안됨\n",
    "# print(myS)\n",
    "myS.discard(1)  # 집합에 x 값 삭제, 없으면 변화없음\n",
    "print(myS)\n",
    "myS.discard(11)\n",
    "print(myS)\n",
    "print(3 in myS)   # x in a, x가 리스트 a에 있으면 True\n",
    "print(3 not in myS)  # x not in a, x가 리스트 a에 없으면 True\n",
    "myS.clear()\n",
    "print(myS)"
   ]
  },
  {
   "cell_type": "code",
   "execution_count": 3,
   "metadata": {},
   "outputs": [
    {
     "name": "stdout",
     "output_type": "stream",
     "text": [
      "[3, 7, 1, 5, 9] [1, 3, 5, 7, 9]\n",
      "[1, 3, 5, 7, 9]\n"
     ]
    }
   ],
   "source": [
    "# 파이썬의 정렬 함수, sorted() vs sort()\n",
    "myL2 = [3, 7, 1, 5, 9]\n",
    "mm = sorted(myL2) # sorted() 함수는 정렬된 새로운 리스트를 리턴\n",
    "print(myL2, mm)\n",
    "myL2.sort()       # sort() 함수는 정렬대상 리스트 자체를 정렬\n",
    "print(myL2)"
   ]
  },
  {
   "cell_type": "code",
   "execution_count": 4,
   "metadata": {},
   "outputs": [
    {
     "name": "stdout",
     "output_type": "stream",
     "text": [
      "4\n",
      "mm\n",
      "{'a': 'mm', 2: 'hong', 3: 33, 'city': 'seoul'}\n",
      "{'a': 'mm', 2: 'hong', 3: 300, 'city': 'seoul', 4: 'dong', (3, 5): 111}\n",
      "{2: 'hong', 3: 300, 'city': 'seoul', 4: 'dong', (3, 5): 111}\n",
      "True\n",
      "False\n"
     ]
    }
   ],
   "source": [
    "# 자주 사용하는 딕셔너리 함수, {key:value}\n",
    "myD = {\"a\": \"mm\", 2: \"hong\", 3: 33, \"city\":\"seoul\"}\n",
    "\n",
    "print(len(myD))  # dict 길이(자료의 개수)\n",
    "print(myD[\"a\"])  # key에 해당하는 값 리턴\n",
    "print(myD)\n",
    "myD[3] = 300     # key에 value를 저장\n",
    "                 # key가 없으면 새로 만들고\n",
    "                 # key가 있으면 새로운 value값으로 덮어쓴다\n",
    "myD[4] = 'dong'\n",
    "myD[(3,5)] = 111  # 불변하는 tuple은 key로 가능\n",
    "print(myD)\n",
    "del(myD['a'])    # key:value 삭제, key 없으면 오류\n",
    "# del(myD[55])\n",
    "print(myD)\n",
    "# myD.del[2]    # syntax 오류\n",
    "# print(myD)\n",
    "print('city' in myD)  # key in d, key있으면 True\n",
    "print('city' not in myD)  # key not in d, key 없으면 True"
   ]
  },
  {
   "cell_type": "markdown",
   "metadata": {},
   "source": [
    "o 순서있고(index, slicing 가능), 수정 가능 : list, str\n",
    "o 순서있고(index, slicing 가능), 수정 불가 : tuple\n",
    "o 순서없고, 수정 가능 : dict, set\n",
    "               set은 순서없고, 집합안에서 unique 값\n",
    "o dict는 immutable(불변)한 key와 mutable한 value으로 맵핑\n",
    "        되어 있는 순서가 없는 집합"
   ]
  },
  {
   "cell_type": "code",
   "execution_count": 47,
   "metadata": {},
   "outputs": [
    {
     "name": "stdout",
     "output_type": "stream",
     "text": [
      "d abc\n",
      "abcdefghi\n",
      "abcjdef\n"
     ]
    }
   ],
   "source": [
    "sss = 'abcdef'\n",
    "\n",
    "print(sss[3], sss[:3])\n",
    "print(sss + 'ghi')\n",
    "ss1 = sss[:3] + 'j' + sss[3:]\n",
    "print(ss1)"
   ]
  }
 ],
 "metadata": {
  "kernelspec": {
   "display_name": "Python 3",
   "language": "python",
   "name": "python3"
  },
  "language_info": {
   "codemirror_mode": {
    "name": "ipython",
    "version": 3
   },
   "file_extension": ".py",
   "mimetype": "text/x-python",
   "name": "python",
   "nbconvert_exporter": "python",
   "pygments_lexer": "ipython3",
   "version": "3.8.5"
  }
 },
 "nbformat": 4,
 "nbformat_minor": 4
}
