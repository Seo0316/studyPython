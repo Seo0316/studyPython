{
 "cells": [
  {
   "cell_type": "code",
   "execution_count": 2,
   "metadata": {},
   "outputs": [],
   "source": [
    "# class 만들기\n",
    "class cHuman :\n",
    "    def greeting(self) :\n",
    "        print(\"안녕하세요\")\n",
    "        "
   ]
  },
  {
   "cell_type": "code",
   "execution_count": 3,
   "metadata": {},
   "outputs": [],
   "source": [
    "dongil = cHuman()"
   ]
  },
  {
   "cell_type": "code",
   "execution_count": 4,
   "metadata": {},
   "outputs": [
    {
     "name": "stdout",
     "output_type": "stream",
     "text": [
      "안녕하세요\n"
     ]
    }
   ],
   "source": [
    "dongil.greeting()"
   ]
  },
  {
   "cell_type": "code",
   "execution_count": 5,
   "metadata": {},
   "outputs": [],
   "source": [
    "class cHuman :     \n",
    "    def greeting(self) :\n",
    "        print(\"안녕하세요\")\n",
    "        \n",
    "    def sing_a_song(self) :\n",
    "        self.greeting()\n",
    "        print(\"랄라라라라\")"
   ]
  },
  {
   "cell_type": "code",
   "execution_count": 6,
   "metadata": {},
   "outputs": [
    {
     "name": "stdout",
     "output_type": "stream",
     "text": [
      "안녕하세요\n",
      "랄라라라라\n"
     ]
    }
   ],
   "source": [
    "dongil = cHuman()\n",
    "dongil.sing_a_song()"
   ]
  },
  {
   "cell_type": "code",
   "execution_count": 9,
   "metadata": {},
   "outputs": [],
   "source": [
    "# class data 초기화, 설계도에 잘못 입력...\n",
    "class cHuman :     \n",
    "    def __init__(self) :\n",
    "        self.name = \"동일\"\n",
    "        self.age = 20\n",
    "        self.city = 'Daejeon'\n",
    "        \n",
    "    def greeting(self) :\n",
    "        print(\"안녕하세요\")\n",
    "        \n",
    "    def sing_a_song(self) :\n",
    "        self.greeting()\n",
    "        print(\"랄라라라라\")"
   ]
  },
  {
   "cell_type": "code",
   "execution_count": 10,
   "metadata": {},
   "outputs": [
    {
     "data": {
      "text/plain": [
       "'동일'"
      ]
     },
     "execution_count": 10,
     "metadata": {},
     "output_type": "execute_result"
    }
   ],
   "source": [
    "dd = cHuman()\n",
    "\n",
    "dd.name"
   ]
  },
  {
   "cell_type": "code",
   "execution_count": 11,
   "metadata": {},
   "outputs": [
    {
     "data": {
      "text/plain": [
       "'동일'"
      ]
     },
     "execution_count": 11,
     "metadata": {},
     "output_type": "execute_result"
    }
   ],
   "source": [
    "dd1 = cHuman()\n",
    "dd1.name"
   ]
  },
  {
   "cell_type": "code",
   "execution_count": 12,
   "metadata": {},
   "outputs": [],
   "source": [
    "# class data 초기화\n",
    "\n",
    "class cHuman :     \n",
    "    def __init__(self, name, age, city) :\n",
    "        self.name = name\n",
    "        self.age = age\n",
    "        self.city = city\n",
    "        \n",
    "    def greeting(self) :\n",
    "        print(\"안녕하세요\")\n",
    "        \n",
    "    def sing_a_song(self) :\n",
    "        self.greeting()\n",
    "        print(\"랄라라라라\")"
   ]
  },
  {
   "cell_type": "code",
   "execution_count": 13,
   "metadata": {},
   "outputs": [],
   "source": [
    "# dd = cHuman()\n",
    "\n",
    "dd = cHuman(\"dongil\", 20, \"Daejeon\")"
   ]
  },
  {
   "cell_type": "code",
   "execution_count": 14,
   "metadata": {},
   "outputs": [
    {
     "name": "stdout",
     "output_type": "stream",
     "text": [
      "안녕하세요\n",
      "랄라라라라\n"
     ]
    }
   ],
   "source": [
    "dd.sing_a_song()"
   ]
  },
  {
   "cell_type": "code",
   "execution_count": 15,
   "metadata": {},
   "outputs": [
    {
     "data": {
      "text/plain": [
       "'dongil'"
      ]
     },
     "execution_count": 15,
     "metadata": {},
     "output_type": "execute_result"
    }
   ],
   "source": [
    "dd.name"
   ]
  },
  {
   "cell_type": "code",
   "execution_count": 16,
   "metadata": {},
   "outputs": [
    {
     "data": {
      "text/plain": [
       "'Daejeon'"
      ]
     },
     "execution_count": 16,
     "metadata": {},
     "output_type": "execute_result"
    }
   ],
   "source": [
    "dd.city"
   ]
  },
  {
   "cell_type": "code",
   "execution_count": 17,
   "metadata": {},
   "outputs": [],
   "source": [
    "dd2 = cHuman('mina', 22, 'seoul')\n",
    "dd3 = cHuman('kim', 33, 'busan')"
   ]
  },
  {
   "cell_type": "code",
   "execution_count": 18,
   "metadata": {},
   "outputs": [
    {
     "data": {
      "text/plain": [
       "'mina'"
      ]
     },
     "execution_count": 18,
     "metadata": {},
     "output_type": "execute_result"
    }
   ],
   "source": [
    "dd2.name"
   ]
  },
  {
   "cell_type": "code",
   "execution_count": 19,
   "metadata": {},
   "outputs": [
    {
     "data": {
      "text/plain": [
       "'busan'"
      ]
     },
     "execution_count": 19,
     "metadata": {},
     "output_type": "execute_result"
    }
   ],
   "source": [
    "dd3.city"
   ]
  },
  {
   "cell_type": "code",
   "execution_count": null,
   "metadata": {},
   "outputs": [],
   "source": []
  },
  {
   "cell_type": "code",
   "execution_count": 21,
   "metadata": {},
   "outputs": [],
   "source": [
    "# class 내부 data\n",
    "class cHuman :   \n",
    "    gender = ''\n",
    "    items = []\n",
    "    \n",
    "    def __init__(self, name, age, city) :\n",
    "        self.name = name\n",
    "        self.age = age\n",
    "        self.city = city\n",
    "        \n",
    "    def addItem(self, item) :\n",
    "        self.items.append(item)\n",
    "        print(item, \"추가...\")\n",
    "        \n",
    "    def getItem(self) :\n",
    "        print(self.items)\n",
    "        \n",
    "    def greeting(self) :\n",
    "        print(\"안녕하세요\")\n",
    "        \n",
    "    def sing_a_song(self) :\n",
    "        self.greeting()\n",
    "        print(\"랄라라라라\")"
   ]
  },
  {
   "cell_type": "code",
   "execution_count": 22,
   "metadata": {},
   "outputs": [],
   "source": [
    "# 인스턴스 생성\n",
    "\n",
    "kim = cHuman('kim', 33, 'busan')"
   ]
  },
  {
   "cell_type": "code",
   "execution_count": 23,
   "metadata": {},
   "outputs": [],
   "source": [
    "# item 직접 넣기\n",
    "kim.items.append(\"스마트폰\")"
   ]
  },
  {
   "cell_type": "code",
   "execution_count": 24,
   "metadata": {},
   "outputs": [
    {
     "data": {
      "text/plain": [
       "['스마트폰']"
      ]
     },
     "execution_count": 24,
     "metadata": {},
     "output_type": "execute_result"
    }
   ],
   "source": [
    "kim.items"
   ]
  },
  {
   "cell_type": "code",
   "execution_count": 25,
   "metadata": {},
   "outputs": [
    {
     "name": "stdout",
     "output_type": "stream",
     "text": [
      "컴퓨터 추가...\n"
     ]
    }
   ],
   "source": [
    "kim.addItem(\"컴퓨터\")"
   ]
  },
  {
   "cell_type": "code",
   "execution_count": 26,
   "metadata": {},
   "outputs": [
    {
     "data": {
      "text/plain": [
       "['스마트폰', '컴퓨터']"
      ]
     },
     "execution_count": 26,
     "metadata": {},
     "output_type": "execute_result"
    }
   ],
   "source": [
    "kim.items"
   ]
  },
  {
   "cell_type": "code",
   "execution_count": 27,
   "metadata": {},
   "outputs": [],
   "source": [
    "# 데이터를 클래스 내부 메소드를 통해서만 접근 가능하도록\n",
    "# 디버깅... 재사용성 등..\n",
    "\n",
    "class cHuman :   \n",
    "    gender = ''\n",
    "    __items = []\n",
    "    \n",
    "    def __init__(self, name, age, city) :\n",
    "        self.name = name\n",
    "        self.age = age\n",
    "        self.city = city\n",
    "        \n",
    "    def addItem(self, item) :\n",
    "        self.__items.append(item)\n",
    "        print(item, \"추가...\")\n",
    "        \n",
    "    def getItem(self) :\n",
    "        print(self.__items)"
   ]
  },
  {
   "cell_type": "code",
   "execution_count": 28,
   "metadata": {},
   "outputs": [],
   "source": [
    "mina = cHuman('mina', 22, 'seoul')"
   ]
  },
  {
   "cell_type": "code",
   "execution_count": 29,
   "metadata": {},
   "outputs": [
    {
     "name": "stdout",
     "output_type": "stream",
     "text": [
      "책 한권 추가...\n"
     ]
    }
   ],
   "source": [
    "# mina.__items.append(\"책 한권\")\n",
    "mina.addItem(\"책 한권\")"
   ]
  },
  {
   "cell_type": "code",
   "execution_count": 30,
   "metadata": {},
   "outputs": [],
   "source": [
    "# private, public\n",
    "class cHuman :   \n",
    "    gender = ''\n",
    "    __items = []\n",
    "    \n",
    "    def __init__(self, name, age, city) :\n",
    "        self.name = name\n",
    "        self.__age = age\n",
    "        self.city = city\n",
    "        \n",
    "    def addItem(self, item) :\n",
    "        self.__items.append(item)\n",
    "        print(item, \"추가...\")\n",
    "        \n",
    "    def getItem(self) :\n",
    "        print(self.__items)"
   ]
  },
  {
   "cell_type": "code",
   "execution_count": 31,
   "metadata": {},
   "outputs": [],
   "source": [
    "mina2 = cHuman('mina2', '27', 'seoul')"
   ]
  },
  {
   "cell_type": "code",
   "execution_count": 33,
   "metadata": {},
   "outputs": [
    {
     "ename": "AttributeError",
     "evalue": "'cHuman' object has no attribute '__age'",
     "output_type": "error",
     "traceback": [
      "\u001b[1;31m---------------------------------------------------------------------------\u001b[0m",
      "\u001b[1;31mAttributeError\u001b[0m                            Traceback (most recent call last)",
      "\u001b[1;32m<ipython-input-33-467beb1e32f1>\u001b[0m in \u001b[0;36m<module>\u001b[1;34m\u001b[0m\n\u001b[0;32m      1\u001b[0m \u001b[1;31m# mina2.age\u001b[0m\u001b[1;33m\u001b[0m\u001b[1;33m\u001b[0m\u001b[1;33m\u001b[0m\u001b[0m\n\u001b[1;32m----> 2\u001b[1;33m \u001b[0mmina2\u001b[0m\u001b[1;33m.\u001b[0m\u001b[0m__age\u001b[0m\u001b[1;33m\u001b[0m\u001b[1;33m\u001b[0m\u001b[0m\n\u001b[0m",
      "\u001b[1;31mAttributeError\u001b[0m: 'cHuman' object has no attribute '__age'"
     ]
    }
   ],
   "source": [
    "# mina2.age\n",
    "mina2.__age"
   ]
  },
  {
   "cell_type": "code",
   "execution_count": 37,
   "metadata": {},
   "outputs": [],
   "source": [
    "# private, public ==> 내부 처리값, 외부 리턴값...\n",
    "class cHuman :   \n",
    "    gender = ''\n",
    "    __items = []\n",
    "    \n",
    "    def __init__(self, name, age, city) :\n",
    "        self.name = name\n",
    "        self.__age = age\n",
    "        self.city = city\n",
    "        \n",
    "    def getAge(self) :\n",
    "        print(self.__age - 5)\n",
    "        \n",
    "    def addItem(self, item) :\n",
    "        self.__items.append(item)\n",
    "        print(item, \"추가...\")\n",
    "        \n",
    "    def getItem(self) :\n",
    "        print(self.__items)"
   ]
  },
  {
   "cell_type": "code",
   "execution_count": 38,
   "metadata": {},
   "outputs": [],
   "source": [
    "mina3 = cHuman('mina3', 28, 'daejeon')"
   ]
  },
  {
   "cell_type": "code",
   "execution_count": 39,
   "metadata": {},
   "outputs": [
    {
     "name": "stdout",
     "output_type": "stream",
     "text": [
      "23\n"
     ]
    }
   ],
   "source": [
    "mina3.getAge()"
   ]
  },
  {
   "cell_type": "code",
   "execution_count": 40,
   "metadata": {},
   "outputs": [],
   "source": [
    "# 정적 메소드 (static method)\n",
    "# 인스턴스가 따로 필요 없는 경우..\n",
    "\n",
    "class Calcul :\n",
    "    @staticmethod\n",
    "    \n",
    "#     def add(self, a, b) :\n",
    "    def add(a, b) :\n",
    "        return a+b"
   ]
  },
  {
   "cell_type": "code",
   "execution_count": 41,
   "metadata": {},
   "outputs": [
    {
     "data": {
      "text/plain": [
       "21"
      ]
     },
     "execution_count": 41,
     "metadata": {},
     "output_type": "execute_result"
    }
   ],
   "source": [
    "Calcul.add(10, 11)"
   ]
  },
  {
   "cell_type": "code",
   "execution_count": null,
   "metadata": {},
   "outputs": [],
   "source": []
  },
  {
   "cell_type": "code",
   "execution_count": 42,
   "metadata": {},
   "outputs": [],
   "source": [
    "# 클래스의 상속\n",
    "class cHuman2 :\n",
    "    def __init__(self, name, age) :\n",
    "        self.name = name\n",
    "        self.age = age\n",
    "        \n",
    "    def greeting(self) :\n",
    "        print('안녕하세요. 저는 %s 입니다.'%self.name)"
   ]
  },
  {
   "cell_type": "code",
   "execution_count": 43,
   "metadata": {},
   "outputs": [],
   "source": [
    "kim2 = cHuman2('kim2', 33)"
   ]
  },
  {
   "cell_type": "code",
   "execution_count": 44,
   "metadata": {},
   "outputs": [
    {
     "name": "stdout",
     "output_type": "stream",
     "text": [
      "안녕하세요. 저는 kim2 입니다.\n"
     ]
    }
   ],
   "source": [
    "kim2.greeting()"
   ]
  },
  {
   "cell_type": "code",
   "execution_count": 45,
   "metadata": {},
   "outputs": [],
   "source": [
    "class Student(cHuman2) :\n",
    "    pass"
   ]
  },
  {
   "cell_type": "code",
   "execution_count": 46,
   "metadata": {},
   "outputs": [],
   "source": [
    "min = Student('minho', 20)"
   ]
  },
  {
   "cell_type": "code",
   "execution_count": 47,
   "metadata": {},
   "outputs": [
    {
     "name": "stdout",
     "output_type": "stream",
     "text": [
      "안녕하세요. 저는 minho 입니다.\n"
     ]
    }
   ],
   "source": [
    "min.greeting()"
   ]
  },
  {
   "cell_type": "code",
   "execution_count": 49,
   "metadata": {},
   "outputs": [],
   "source": [
    "# class method 추가\n",
    "class Student(cHuman2) :\n",
    "    def study(self) :\n",
    "        print(\"열공중입니다~\")"
   ]
  },
  {
   "cell_type": "code",
   "execution_count": 50,
   "metadata": {},
   "outputs": [],
   "source": [
    "min2 = Student('민학생', 21)\n",
    "min = cHuman2('minho', 22)"
   ]
  },
  {
   "cell_type": "code",
   "execution_count": 51,
   "metadata": {},
   "outputs": [
    {
     "name": "stdout",
     "output_type": "stream",
     "text": [
      "열공중입니다~\n"
     ]
    }
   ],
   "source": [
    "min2.study()"
   ]
  },
  {
   "cell_type": "code",
   "execution_count": 52,
   "metadata": {},
   "outputs": [
    {
     "ename": "AttributeError",
     "evalue": "'cHuman2' object has no attribute 'study'",
     "output_type": "error",
     "traceback": [
      "\u001b[1;31m---------------------------------------------------------------------------\u001b[0m",
      "\u001b[1;31mAttributeError\u001b[0m                            Traceback (most recent call last)",
      "\u001b[1;32m<ipython-input-52-7707ae7c6624>\u001b[0m in \u001b[0;36m<module>\u001b[1;34m\u001b[0m\n\u001b[1;32m----> 1\u001b[1;33m \u001b[0mmin\u001b[0m\u001b[1;33m.\u001b[0m\u001b[0mstudy\u001b[0m\u001b[1;33m(\u001b[0m\u001b[1;33m)\u001b[0m\u001b[1;33m\u001b[0m\u001b[1;33m\u001b[0m\u001b[0m\n\u001b[0m",
      "\u001b[1;31mAttributeError\u001b[0m: 'cHuman2' object has no attribute 'study'"
     ]
    }
   ],
   "source": [
    "min.study()"
   ]
  },
  {
   "cell_type": "code",
   "execution_count": 54,
   "metadata": {},
   "outputs": [],
   "source": [
    "# 자식 class 별도 init\n",
    "class Student(cHuman2) :\n",
    "    \n",
    "    def __init__(self, name, age, sid) :\n",
    "        self.name = name\n",
    "        self.age = age\n",
    "        self.sid = sid\n",
    "    \n",
    "    def study(self) :\n",
    "        print(\"열공중입니다~\")"
   ]
  },
  {
   "cell_type": "code",
   "execution_count": 55,
   "metadata": {},
   "outputs": [
    {
     "ename": "TypeError",
     "evalue": "__init__() missing 1 required positional argument: 'sid'",
     "output_type": "error",
     "traceback": [
      "\u001b[1;31m---------------------------------------------------------------------------\u001b[0m",
      "\u001b[1;31mTypeError\u001b[0m                                 Traceback (most recent call last)",
      "\u001b[1;32m<ipython-input-55-dae6d0e9869d>\u001b[0m in \u001b[0;36m<module>\u001b[1;34m\u001b[0m\n\u001b[1;32m----> 1\u001b[1;33m \u001b[0mmm\u001b[0m \u001b[1;33m=\u001b[0m \u001b[0mStudent\u001b[0m\u001b[1;33m(\u001b[0m\u001b[1;34m'김학생'\u001b[0m\u001b[1;33m,\u001b[0m \u001b[1;36m22\u001b[0m\u001b[1;33m)\u001b[0m\u001b[1;33m\u001b[0m\u001b[1;33m\u001b[0m\u001b[0m\n\u001b[0m",
      "\u001b[1;31mTypeError\u001b[0m: __init__() missing 1 required positional argument: 'sid'"
     ]
    }
   ],
   "source": [
    "mm = Student('김학생', 22)"
   ]
  },
  {
   "cell_type": "code",
   "execution_count": 56,
   "metadata": {},
   "outputs": [],
   "source": [
    "mm = Student('김학생', 22, 12345)"
   ]
  },
  {
   "cell_type": "code",
   "execution_count": 57,
   "metadata": {},
   "outputs": [
    {
     "name": "stdout",
     "output_type": "stream",
     "text": [
      "안녕하세요. 저는 김학생 입니다.\n"
     ]
    }
   ],
   "source": [
    "mm.greeting()"
   ]
  },
  {
   "cell_type": "code",
   "execution_count": 58,
   "metadata": {},
   "outputs": [
    {
     "name": "stdout",
     "output_type": "stream",
     "text": [
      "열공중입니다~\n"
     ]
    }
   ],
   "source": [
    "mm.study()"
   ]
  },
  {
   "cell_type": "code",
   "execution_count": 62,
   "metadata": {},
   "outputs": [],
   "source": [
    "# 자식 class에서 부모클래스 method와 이름 같게\n",
    "\n",
    "class Student(cHuman2) :\n",
    "    \n",
    "    def __init__(self, name, age, sid) :\n",
    "        self.name = name\n",
    "        self.age = age\n",
    "        self.sid = sid\n",
    "        \n",
    "    def greeting(self) :\n",
    "        print(\"안녕하세요. student 입니다.\")\n",
    "    \n",
    "    def study(self) :\n",
    "        print(\"열공중입니다~\")"
   ]
  },
  {
   "cell_type": "code",
   "execution_count": 63,
   "metadata": {},
   "outputs": [],
   "source": [
    "mm = Student('김학생', 22, 12345)"
   ]
  },
  {
   "cell_type": "code",
   "execution_count": 65,
   "metadata": {},
   "outputs": [
    {
     "name": "stdout",
     "output_type": "stream",
     "text": [
      "안녕하세요. student 입니다.\n"
     ]
    }
   ],
   "source": [
    "# 자식 본인의 class method가 먼저 호출\n",
    "mm.greeting()"
   ]
  },
  {
   "cell_type": "code",
   "execution_count": 66,
   "metadata": {},
   "outputs": [],
   "source": [
    "# 부모 super class method 호출하기\n",
    "class Student(cHuman2) :\n",
    "    \n",
    "    def __init__(self, name, age, sid) :\n",
    "        self.name = name\n",
    "        self.age = age\n",
    "        self.sid = sid\n",
    "        \n",
    "    def greeting(self) :\n",
    "        super().greeting()\n",
    "        print(\"안녕하세요. student 입니다.\")\n",
    "    \n",
    "    def study(self) :\n",
    "        print(\"열공중입니다~\")"
   ]
  },
  {
   "cell_type": "code",
   "execution_count": 67,
   "metadata": {},
   "outputs": [],
   "source": [
    "s1 = Student('김학생', 22, 12345)"
   ]
  },
  {
   "cell_type": "code",
   "execution_count": 68,
   "metadata": {},
   "outputs": [
    {
     "name": "stdout",
     "output_type": "stream",
     "text": [
      "안녕하세요. 저는 김학생 입니다.\n",
      "안녕하세요. student 입니다.\n"
     ]
    }
   ],
   "source": [
    "s1.greeting()"
   ]
  },
  {
   "cell_type": "code",
   "execution_count": 69,
   "metadata": {},
   "outputs": [],
   "source": [
    "class colleage(Student) :\n",
    "    moim = ''\n",
    "    "
   ]
  },
  {
   "cell_type": "code",
   "execution_count": 70,
   "metadata": {},
   "outputs": [],
   "source": [
    "c1 = colleage('김대학생', 22, 12345)"
   ]
  },
  {
   "cell_type": "code",
   "execution_count": 71,
   "metadata": {},
   "outputs": [
    {
     "name": "stdout",
     "output_type": "stream",
     "text": [
      "안녕하세요. 저는 김대학생 입니다.\n",
      "안녕하세요. student 입니다.\n"
     ]
    }
   ],
   "source": [
    "c1.greeting()"
   ]
  },
  {
   "cell_type": "code",
   "execution_count": 72,
   "metadata": {},
   "outputs": [],
   "source": [
    "c1.moim = '방송부'"
   ]
  },
  {
   "cell_type": "code",
   "execution_count": 73,
   "metadata": {},
   "outputs": [
    {
     "data": {
      "text/plain": [
       "'방송부'"
      ]
     },
     "execution_count": 73,
     "metadata": {},
     "output_type": "execute_result"
    }
   ],
   "source": [
    "c1.moim"
   ]
  },
  {
   "cell_type": "code",
   "execution_count": 75,
   "metadata": {},
   "outputs": [],
   "source": [
    "# getInfo 추가\n",
    "class Student(cHuman2) :   \n",
    "    def __init__(self, name, age, sid) :\n",
    "        self.name = name\n",
    "        self.age = age\n",
    "        self.sid = sid\n",
    "        \n",
    "    def getInfo(self) :\n",
    "        print('name :', self.name)\n",
    "        print('age :', self.age)\n",
    "        print('sid :', self.sid)\n",
    "        \n",
    "    def greeting(self) :\n",
    "        super().greeting()\n",
    "        print(\"안녕하세요. student 입니다.\")\n",
    "    \n",
    "    def study(self) :\n",
    "        print(\"열공중입니다~\")\n",
    "\n",
    "class colleage(Student) :\n",
    "    moim = ''\n",
    "    \n",
    "    def getInfo(self) :\n",
    "        super().getInfo()\n",
    "        print('moim :', self.moim)     "
   ]
  },
  {
   "cell_type": "code",
   "execution_count": 76,
   "metadata": {},
   "outputs": [],
   "source": [
    "c2 = colleage('나대학생', 22, 112233)"
   ]
  },
  {
   "cell_type": "code",
   "execution_count": 77,
   "metadata": {},
   "outputs": [],
   "source": [
    "c2.moim = '연극부'"
   ]
  },
  {
   "cell_type": "code",
   "execution_count": 78,
   "metadata": {},
   "outputs": [
    {
     "name": "stdout",
     "output_type": "stream",
     "text": [
      "name : 나대학생\n",
      "age : 22\n",
      "sid : 112233\n",
      "moim : 연극부\n"
     ]
    }
   ],
   "source": [
    "c2.getInfo()"
   ]
  },
  {
   "cell_type": "code",
   "execution_count": 79,
   "metadata": {},
   "outputs": [],
   "source": [
    "# 다중 상속\n",
    "class university :\n",
    "    uni_name = ''\n",
    "    uni_address = ''"
   ]
  },
  {
   "cell_type": "code",
   "execution_count": 80,
   "metadata": {},
   "outputs": [],
   "source": [
    "class colleage(Student, university) :\n",
    "    pass"
   ]
  },
  {
   "cell_type": "code",
   "execution_count": 81,
   "metadata": {},
   "outputs": [],
   "source": [
    "c3 = colleage('남대학생', 23, 1234)\n",
    "c3.uni_name = '해운대'\n",
    "c3.uni_address = '부산시 해운대구'\n",
    "c3.moim = '출판부'"
   ]
  },
  {
   "cell_type": "code",
   "execution_count": 82,
   "metadata": {},
   "outputs": [
    {
     "name": "stdout",
     "output_type": "stream",
     "text": [
      "안녕하세요. 저는 남대학생 입니다.\n",
      "안녕하세요. student 입니다.\n"
     ]
    }
   ],
   "source": [
    "c3.greeting()"
   ]
  },
  {
   "cell_type": "code",
   "execution_count": 83,
   "metadata": {},
   "outputs": [
    {
     "name": "stdout",
     "output_type": "stream",
     "text": [
      "name : 남대학생\n",
      "age : 23\n",
      "sid : 1234\n"
     ]
    }
   ],
   "source": [
    "c3.getInfo()"
   ]
  },
  {
   "cell_type": "code",
   "execution_count": 84,
   "metadata": {},
   "outputs": [],
   "source": [
    "# 다중상속 문제.... 속성끼리 꼬이는 거... 혼란... 예상치 못한 결과..\n",
    "# 따라서, 다중상속을 최소화... java c# 에서는 금지, c++ 가능\n",
    "# 추상 클래스...."
   ]
  }
 ],
 "metadata": {
  "kernelspec": {
   "display_name": "Python 3",
   "language": "python",
   "name": "python3"
  },
  "language_info": {
   "codemirror_mode": {
    "name": "ipython",
    "version": 3
   },
   "file_extension": ".py",
   "mimetype": "text/x-python",
   "name": "python",
   "nbconvert_exporter": "python",
   "pygments_lexer": "ipython3",
   "version": "3.7.7"
  }
 },
 "nbformat": 4,
 "nbformat_minor": 4
}
