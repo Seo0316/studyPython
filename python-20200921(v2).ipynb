{
 "cells": [
  {
   "cell_type": "code",
   "execution_count": 13,
   "metadata": {
    "collapsed": true
   },
   "outputs": [
    {
     "data": {
      "text/plain": [
       "['ArithmeticError',\n",
       " 'AssertionError',\n",
       " 'AttributeError',\n",
       " 'BaseException',\n",
       " 'BlockingIOError',\n",
       " 'BrokenPipeError',\n",
       " 'BufferError',\n",
       " 'BytesWarning',\n",
       " 'ChildProcessError',\n",
       " 'ConnectionAbortedError',\n",
       " 'ConnectionError',\n",
       " 'ConnectionRefusedError',\n",
       " 'ConnectionResetError',\n",
       " 'DeprecationWarning',\n",
       " 'EOFError',\n",
       " 'Ellipsis',\n",
       " 'EnvironmentError',\n",
       " 'Exception',\n",
       " 'False',\n",
       " 'FileExistsError',\n",
       " 'FileNotFoundError',\n",
       " 'FloatingPointError',\n",
       " 'FutureWarning',\n",
       " 'GeneratorExit',\n",
       " 'IOError',\n",
       " 'ImportError',\n",
       " 'ImportWarning',\n",
       " 'IndentationError',\n",
       " 'IndexError',\n",
       " 'InterruptedError',\n",
       " 'IsADirectoryError',\n",
       " 'KeyError',\n",
       " 'KeyboardInterrupt',\n",
       " 'LookupError',\n",
       " 'MemoryError',\n",
       " 'ModuleNotFoundError',\n",
       " 'NameError',\n",
       " 'None',\n",
       " 'NotADirectoryError',\n",
       " 'NotImplemented',\n",
       " 'NotImplementedError',\n",
       " 'OSError',\n",
       " 'OverflowError',\n",
       " 'PendingDeprecationWarning',\n",
       " 'PermissionError',\n",
       " 'ProcessLookupError',\n",
       " 'RecursionError',\n",
       " 'ReferenceError',\n",
       " 'ResourceWarning',\n",
       " 'RuntimeError',\n",
       " 'RuntimeWarning',\n",
       " 'StopAsyncIteration',\n",
       " 'StopIteration',\n",
       " 'SyntaxError',\n",
       " 'SyntaxWarning',\n",
       " 'SystemError',\n",
       " 'SystemExit',\n",
       " 'TabError',\n",
       " 'TimeoutError',\n",
       " 'True',\n",
       " 'TypeError',\n",
       " 'UnboundLocalError',\n",
       " 'UnicodeDecodeError',\n",
       " 'UnicodeEncodeError',\n",
       " 'UnicodeError',\n",
       " 'UnicodeTranslateError',\n",
       " 'UnicodeWarning',\n",
       " 'UserWarning',\n",
       " 'ValueError',\n",
       " 'Warning',\n",
       " 'WindowsError',\n",
       " 'ZeroDivisionError',\n",
       " '__IPYTHON__',\n",
       " '__build_class__',\n",
       " '__debug__',\n",
       " '__doc__',\n",
       " '__import__',\n",
       " '__loader__',\n",
       " '__name__',\n",
       " '__package__',\n",
       " '__spec__',\n",
       " 'abs',\n",
       " 'all',\n",
       " 'any',\n",
       " 'ascii',\n",
       " 'bin',\n",
       " 'bool',\n",
       " 'breakpoint',\n",
       " 'bytearray',\n",
       " 'bytes',\n",
       " 'callable',\n",
       " 'chr',\n",
       " 'classmethod',\n",
       " 'compile',\n",
       " 'complex',\n",
       " 'copyright',\n",
       " 'credits',\n",
       " 'delattr',\n",
       " 'dict',\n",
       " 'dir',\n",
       " 'display',\n",
       " 'divmod',\n",
       " 'enumerate',\n",
       " 'eval',\n",
       " 'exec',\n",
       " 'filter',\n",
       " 'float',\n",
       " 'format',\n",
       " 'frozenset',\n",
       " 'get_ipython',\n",
       " 'getattr',\n",
       " 'globals',\n",
       " 'hasattr',\n",
       " 'hash',\n",
       " 'help',\n",
       " 'hex',\n",
       " 'id',\n",
       " 'input',\n",
       " 'int',\n",
       " 'isinstance',\n",
       " 'issubclass',\n",
       " 'iter',\n",
       " 'len',\n",
       " 'license',\n",
       " 'list',\n",
       " 'locals',\n",
       " 'map',\n",
       " 'max',\n",
       " 'memoryview',\n",
       " 'min',\n",
       " 'next',\n",
       " 'object',\n",
       " 'oct',\n",
       " 'open',\n",
       " 'ord',\n",
       " 'pow',\n",
       " 'print',\n",
       " 'property',\n",
       " 'range',\n",
       " 'repr',\n",
       " 'reversed',\n",
       " 'round',\n",
       " 'set',\n",
       " 'setattr',\n",
       " 'slice',\n",
       " 'sorted',\n",
       " 'staticmethod',\n",
       " 'str',\n",
       " 'sum',\n",
       " 'super',\n",
       " 'tuple',\n",
       " 'type',\n",
       " 'vars',\n",
       " 'zip']"
      ]
     },
     "execution_count": 13,
     "metadata": {},
     "output_type": "execute_result"
    }
   ],
   "source": [
    "# 파이썬 내장함수(builtin function) 리스트 보기\n",
    "# 아무런 import도 없이 즉시 사용 가능한 함수들 \n",
    "#   - input, print, int, range, len, type, dir, help 등등\n",
    "# dir() : directory 약자로, 안내책자 역할, 객체가 가지고 있는 속성과 메소드를 보여줌\n",
    "dir(__builtins__) "
   ]
  },
  {
   "cell_type": "code",
   "execution_count": 8,
   "metadata": {
    "scrolled": false
   },
   "outputs": [
    {
     "name": "stdout",
     "output_type": "stream",
     "text": [
      "Help on built-in function print in module builtins:\n",
      "\n",
      "print(...)\n",
      "    print(value, ..., sep=' ', end='\\n', file=sys.stdout, flush=False)\n",
      "    \n",
      "    Prints the values to a stream, or to sys.stdout by default.\n",
      "    Optional keyword arguments:\n",
      "    file:  a file-like object (stream); defaults to the current sys.stdout.\n",
      "    sep:   string inserted between values, default a space.\n",
      "    end:   string appended after the last value, default a newline.\n",
      "    flush: whether to forcibly flush the stream.\n",
      "\n"
     ]
    }
   ],
   "source": [
    "# help 사용 or Shift + tap\n",
    "help(print)"
   ]
  },
  {
   "cell_type": "code",
   "execution_count": 11,
   "metadata": {
    "collapsed": true
   },
   "outputs": [
    {
     "data": {
      "text/plain": [
       "['AF_APPLETALK',\n",
       " 'AF_DECnet',\n",
       " 'AF_INET',\n",
       " 'AF_INET6',\n",
       " 'AF_IPX',\n",
       " 'AF_IRDA',\n",
       " 'AF_SNA',\n",
       " 'AF_UNSPEC',\n",
       " 'AI_ADDRCONFIG',\n",
       " 'AI_ALL',\n",
       " 'AI_CANONNAME',\n",
       " 'AI_NUMERICHOST',\n",
       " 'AI_NUMERICSERV',\n",
       " 'AI_PASSIVE',\n",
       " 'AI_V4MAPPED',\n",
       " 'AddressFamily',\n",
       " 'AddressInfo',\n",
       " 'CAPI',\n",
       " 'EAGAIN',\n",
       " 'EAI_AGAIN',\n",
       " 'EAI_BADFLAGS',\n",
       " 'EAI_FAIL',\n",
       " 'EAI_FAMILY',\n",
       " 'EAI_MEMORY',\n",
       " 'EAI_NODATA',\n",
       " 'EAI_NONAME',\n",
       " 'EAI_SERVICE',\n",
       " 'EAI_SOCKTYPE',\n",
       " 'EBADF',\n",
       " 'EWOULDBLOCK',\n",
       " 'INADDR_ALLHOSTS_GROUP',\n",
       " 'INADDR_ANY',\n",
       " 'INADDR_BROADCAST',\n",
       " 'INADDR_LOOPBACK',\n",
       " 'INADDR_MAX_LOCAL_GROUP',\n",
       " 'INADDR_NONE',\n",
       " 'INADDR_UNSPEC_GROUP',\n",
       " 'IPPORT_RESERVED',\n",
       " 'IPPORT_USERRESERVED',\n",
       " 'IPPROTO_AH',\n",
       " 'IPPROTO_CBT',\n",
       " 'IPPROTO_DSTOPTS',\n",
       " 'IPPROTO_EGP',\n",
       " 'IPPROTO_ESP',\n",
       " 'IPPROTO_FRAGMENT',\n",
       " 'IPPROTO_GGP',\n",
       " 'IPPROTO_HOPOPTS',\n",
       " 'IPPROTO_ICLFXBM',\n",
       " 'IPPROTO_ICMP',\n",
       " 'IPPROTO_ICMPV6',\n",
       " 'IPPROTO_IDP',\n",
       " 'IPPROTO_IGMP',\n",
       " 'IPPROTO_IGP',\n",
       " 'IPPROTO_IP',\n",
       " 'IPPROTO_IPV4',\n",
       " 'IPPROTO_IPV6',\n",
       " 'IPPROTO_L2TP',\n",
       " 'IPPROTO_MAX',\n",
       " 'IPPROTO_ND',\n",
       " 'IPPROTO_NONE',\n",
       " 'IPPROTO_PGM',\n",
       " 'IPPROTO_PIM',\n",
       " 'IPPROTO_PUP',\n",
       " 'IPPROTO_RAW',\n",
       " 'IPPROTO_RDP',\n",
       " 'IPPROTO_ROUTING',\n",
       " 'IPPROTO_SCTP',\n",
       " 'IPPROTO_ST',\n",
       " 'IPPROTO_TCP',\n",
       " 'IPPROTO_UDP',\n",
       " 'IPV6_CHECKSUM',\n",
       " 'IPV6_DONTFRAG',\n",
       " 'IPV6_HOPLIMIT',\n",
       " 'IPV6_HOPOPTS',\n",
       " 'IPV6_JOIN_GROUP',\n",
       " 'IPV6_LEAVE_GROUP',\n",
       " 'IPV6_MULTICAST_HOPS',\n",
       " 'IPV6_MULTICAST_IF',\n",
       " 'IPV6_MULTICAST_LOOP',\n",
       " 'IPV6_PKTINFO',\n",
       " 'IPV6_RECVRTHDR',\n",
       " 'IPV6_RECVTCLASS',\n",
       " 'IPV6_RTHDR',\n",
       " 'IPV6_TCLASS',\n",
       " 'IPV6_UNICAST_HOPS',\n",
       " 'IPV6_V6ONLY',\n",
       " 'IP_ADD_MEMBERSHIP',\n",
       " 'IP_DROP_MEMBERSHIP',\n",
       " 'IP_HDRINCL',\n",
       " 'IP_MULTICAST_IF',\n",
       " 'IP_MULTICAST_LOOP',\n",
       " 'IP_MULTICAST_TTL',\n",
       " 'IP_OPTIONS',\n",
       " 'IP_RECVDSTADDR',\n",
       " 'IP_TOS',\n",
       " 'IP_TTL',\n",
       " 'IntEnum',\n",
       " 'IntFlag',\n",
       " 'MSG_BCAST',\n",
       " 'MSG_CTRUNC',\n",
       " 'MSG_DONTROUTE',\n",
       " 'MSG_ERRQUEUE',\n",
       " 'MSG_MCAST',\n",
       " 'MSG_OOB',\n",
       " 'MSG_PEEK',\n",
       " 'MSG_TRUNC',\n",
       " 'MSG_WAITALL',\n",
       " 'MsgFlag',\n",
       " 'NI_DGRAM',\n",
       " 'NI_MAXHOST',\n",
       " 'NI_MAXSERV',\n",
       " 'NI_NAMEREQD',\n",
       " 'NI_NOFQDN',\n",
       " 'NI_NUMERICHOST',\n",
       " 'NI_NUMERICSERV',\n",
       " 'RCVALL_MAX',\n",
       " 'RCVALL_OFF',\n",
       " 'RCVALL_ON',\n",
       " 'RCVALL_SOCKETLEVELONLY',\n",
       " 'SHUT_RD',\n",
       " 'SHUT_RDWR',\n",
       " 'SHUT_WR',\n",
       " 'SIO_KEEPALIVE_VALS',\n",
       " 'SIO_LOOPBACK_FAST_PATH',\n",
       " 'SIO_RCVALL',\n",
       " 'SOCK_DGRAM',\n",
       " 'SOCK_RAW',\n",
       " 'SOCK_RDM',\n",
       " 'SOCK_SEQPACKET',\n",
       " 'SOCK_STREAM',\n",
       " 'SOL_IP',\n",
       " 'SOL_SOCKET',\n",
       " 'SOL_TCP',\n",
       " 'SOL_UDP',\n",
       " 'SOMAXCONN',\n",
       " 'SO_ACCEPTCONN',\n",
       " 'SO_BROADCAST',\n",
       " 'SO_DEBUG',\n",
       " 'SO_DONTROUTE',\n",
       " 'SO_ERROR',\n",
       " 'SO_EXCLUSIVEADDRUSE',\n",
       " 'SO_KEEPALIVE',\n",
       " 'SO_LINGER',\n",
       " 'SO_OOBINLINE',\n",
       " 'SO_RCVBUF',\n",
       " 'SO_RCVLOWAT',\n",
       " 'SO_RCVTIMEO',\n",
       " 'SO_REUSEADDR',\n",
       " 'SO_SNDBUF',\n",
       " 'SO_SNDLOWAT',\n",
       " 'SO_SNDTIMEO',\n",
       " 'SO_TYPE',\n",
       " 'SO_USELOOPBACK',\n",
       " 'SocketIO',\n",
       " 'SocketKind',\n",
       " 'SocketType',\n",
       " 'TCP_FASTOPEN',\n",
       " 'TCP_KEEPCNT',\n",
       " 'TCP_KEEPIDLE',\n",
       " 'TCP_KEEPINTVL',\n",
       " 'TCP_MAXSEG',\n",
       " 'TCP_NODELAY',\n",
       " '_GLOBAL_DEFAULT_TIMEOUT',\n",
       " '_GiveupOnSendfile',\n",
       " '_LOCALHOST',\n",
       " '_LOCALHOST_V6',\n",
       " '__all__',\n",
       " '__builtins__',\n",
       " '__cached__',\n",
       " '__doc__',\n",
       " '__file__',\n",
       " '__loader__',\n",
       " '__name__',\n",
       " '__package__',\n",
       " '__spec__',\n",
       " '_blocking_errnos',\n",
       " '_intenum_converter',\n",
       " '_realsocket',\n",
       " '_socket',\n",
       " 'close',\n",
       " 'create_connection',\n",
       " 'create_server',\n",
       " 'dup',\n",
       " 'errno',\n",
       " 'error',\n",
       " 'errorTab',\n",
       " 'fromfd',\n",
       " 'fromshare',\n",
       " 'gaierror',\n",
       " 'getaddrinfo',\n",
       " 'getdefaulttimeout',\n",
       " 'getfqdn',\n",
       " 'gethostbyaddr',\n",
       " 'gethostbyname',\n",
       " 'gethostbyname_ex',\n",
       " 'gethostname',\n",
       " 'getnameinfo',\n",
       " 'getprotobyname',\n",
       " 'getservbyname',\n",
       " 'getservbyport',\n",
       " 'has_dualstack_ipv6',\n",
       " 'has_ipv6',\n",
       " 'herror',\n",
       " 'htonl',\n",
       " 'htons',\n",
       " 'if_indextoname',\n",
       " 'if_nameindex',\n",
       " 'if_nametoindex',\n",
       " 'inet_aton',\n",
       " 'inet_ntoa',\n",
       " 'inet_ntop',\n",
       " 'inet_pton',\n",
       " 'io',\n",
       " 'ntohl',\n",
       " 'ntohs',\n",
       " 'os',\n",
       " 'selectors',\n",
       " 'setdefaulttimeout',\n",
       " 'socket',\n",
       " 'socketpair',\n",
       " 'sys',\n",
       " 'timeout']"
      ]
     },
     "execution_count": 11,
     "metadata": {},
     "output_type": "execute_result"
    }
   ],
   "source": [
    "# 파이썬 import한 라이브러리에 포함된 함수 리스트 보기, dir()\n",
    "import socket\n",
    "# print(dir(socket))\n",
    "dir(socket)"
   ]
  },
  {
   "cell_type": "code",
   "execution_count": 21,
   "metadata": {},
   "outputs": [
    {
     "name": "stdout",
     "output_type": "stream",
     "text": [
      "<module 'os' from 'C:\\\\anaconda3\\\\envs\\\\mydata\\\\lib\\\\os.py'>\n",
      "D:\\working\\python5\\etc\\Kongju\n",
      "D:\\working\\python5\\etc\n",
      "D:\\working\\python5\\etc\\Kongju\n"
     ]
    }
   ],
   "source": [
    "# import된 모듈의 경로 확인, 현재 working 경로, 경로 바꾸기, system command 실행\n",
    "import os\n",
    "print(os)    # import된 모듈의 경로 확인\n",
    "print(os.getcwd())      # Return the current working directory\n",
    "os.chdir('D:\\\\working\\\\python5\\\\etc')   # Change current working directory\n",
    "print(os.getcwd())\n",
    "os.chdir('D:\\\\working\\\\python5\\\\etc\\\\Kongju')\n",
    "print(os.getcwd())\n",
    "# os.system('mkdir today')   # Run the command mkdir in the system shell"
   ]
  },
  {
   "cell_type": "markdown",
   "metadata": {},
   "source": [
    "windows10, sub system 리눅스 쉡에서 jupyter notebook 사용법\n",
    "   $ jupyter notebook --no-browser\n",
    "   .......\n",
    "      http://localhost:8888/?token... \n",
    "      이 부분을 copy하여 윈도우 chrome에 붙여넣기하면 됨"
   ]
  },
  {
   "cell_type": "markdown",
   "metadata": {},
   "source": [
    "o 순서있고(index, slicing 가능), 수정 가능 : list  \n",
    "o 순서있고(index, slicing 가능), 수정 불가 : tuple, str  \n",
    "                         tuple은 packing, unpacking 가능  \n",
    "o 순서없고, 수정 가능 : dict, set  \n",
    "               set은 순서없고, 집합안에서 unique 값  \n",
    "o dict는 immutable(불변)한 key와 mutable한 value으로 맵핑  \n",
    "        되어 있는 순서가 없는 집합  "
   ]
  },
  {
   "cell_type": "code",
   "execution_count": 22,
   "metadata": {},
   "outputs": [
    {
     "name": "stdout",
     "output_type": "stream",
     "text": [
      "9\n",
      "[6, 2, 3, 1, 5, 4, 9, 7, 8, 7]\n",
      "4\n",
      "[6, 2, 3, 1, 5, 9, 7, 8, 7]\n",
      "[6, 2, 10, 3, 1, 5, 9, 7, 8, 7]\n",
      "True\n",
      "False\n",
      "[]\n"
     ]
    }
   ],
   "source": [
    "# 자주 사용하는 list 함수\n",
    "myL = [6, 2, 3, 1, 5, 4, 9, 7, 8]\n",
    "\n",
    "print(len(myL))  # 리스트내 원소 갯수\n",
    "myL.append(7)    # 리스트 맨 뒤에 추가\n",
    "print(myL)\n",
    "print(myL.pop(5)) # 리스트 index i번 값을 빼서 리턴함\n",
    "                  # i를 지정하지 않으면, list 맨 뒤값\n",
    "print(myL)\n",
    "myL.insert(2, 10) # insert(i, x), i번 index에 x값을 추가\n",
    "print(myL)\n",
    "print(3 in myL)   # x in a, x가 리스트 a에 있으면 True\n",
    "print(3 not in myL)  # x not in a, x가 리스트 a에 없으면 True\n",
    "myL.clear()       # 리스트 모든 자료 삭제\n",
    "print(myL)"
   ]
  },
  {
   "cell_type": "code",
   "execution_count": 23,
   "metadata": {},
   "outputs": [
    {
     "name": "stdout",
     "output_type": "stream",
     "text": [
      "5\n",
      "{1, 2, 3, 5, 7}\n",
      "{1, 2, 3, 5, 7, 9}\n",
      "{1, 2, 3, 5, 7, 9}\n",
      "{2, 3, 5, 7, 9}\n",
      "{2, 3, 5, 7, 9}\n",
      "True\n",
      "False\n",
      "set()\n"
     ]
    }
   ],
   "source": [
    "# 자주 사용하는 set 함수\n",
    "myS = {5, 7, 5, 2, 3, 5, 1}   # myS = set()\n",
    "\n",
    "print(len(myS))  # set내 원소 갯수, 중복된 값은 자동 제거\n",
    "print(myS)   # 순서가 없으며, 어떤 값이 먼저 나올지 모름\n",
    "myS.add(9)   # 집합에 자료 추가 (중복 입력 불가, 반응없음)\n",
    "print(myS)\n",
    "myS.add(9)\n",
    "print(myS)\n",
    "# myS.insert(0, 11)  # syntax 에러, 순서 없으므로 index 안됨\n",
    "# print(myS)\n",
    "myS.discard(1)  # 집합에 x 값 삭제, 없으면 변화없음\n",
    "print(myS)\n",
    "myS.discard(11)\n",
    "print(myS)\n",
    "print(3 in myS)   # x in a, x가 리스트 a에 있으면 True\n",
    "print(3 not in myS)  # x not in a, x가 리스트 a에 없으면 True\n",
    "myS.clear()\n",
    "print(myS)"
   ]
  },
  {
   "cell_type": "code",
   "execution_count": 24,
   "metadata": {},
   "outputs": [
    {
     "name": "stdout",
     "output_type": "stream",
     "text": [
      "[3, 7, 1, 5, 9] [1, 3, 5, 7, 9]\n",
      "[1, 3, 5, 7, 9]\n"
     ]
    }
   ],
   "source": [
    "# 파이썬의 정렬 함수, sorted() vs sort()\n",
    "myL2 = [3, 7, 1, 5, 9]\n",
    "mm = sorted(myL2) # sorted() 함수는 정렬된 새로운 리스트를 리턴\n",
    "print(myL2, mm)\n",
    "myL2.sort()       # sort() 함수는 정렬대상 리스트 자체를 정렬\n",
    "print(myL2)"
   ]
  },
  {
   "cell_type": "code",
   "execution_count": 25,
   "metadata": {},
   "outputs": [
    {
     "name": "stdout",
     "output_type": "stream",
     "text": [
      "4\n",
      "mm\n",
      "{'a': 'mm', 2: 'hong', 3: 33, 'city': 'seoul'}\n",
      "{'a': 'mm', 2: 'hong', 3: 300, 'city': 'seoul', 4: 'dong', (3, 5): 111}\n",
      "{2: 'hong', 3: 300, 'city': 'seoul', 4: 'dong', (3, 5): 111}\n",
      "True\n",
      "False\n"
     ]
    }
   ],
   "source": [
    "# 자주 사용하는 딕셔너리 함수, {key:value}\n",
    "myD = {\"a\": \"mm\", 2: \"hong\", 3: 33, \"city\":\"seoul\"}\n",
    "\n",
    "print(len(myD))  # dict 길이(자료의 개수)\n",
    "print(myD[\"a\"])  # key에 해당하는 값 리턴\n",
    "print(myD)\n",
    "myD[3] = 300     # key에 value를 저장\n",
    "                 # key가 없으면 새로 만들고\n",
    "                 # key가 있으면 새로운 value값으로 덮어쓴다\n",
    "myD[4] = 'dong'\n",
    "myD[(3,5)] = 111  # 불변하는 tuple은 key로 가능\n",
    "print(myD)\n",
    "del(myD['a'])    # key:value 삭제, key 없으면 오류\n",
    "# del(myD[55])\n",
    "print(myD)\n",
    "# myD.del[2]    # syntax 오류\n",
    "# print(myD)\n",
    "print('city' in myD)  # key in d, key있으면 True\n",
    "print('city' not in myD)  # key not in d, key 없으면 True"
   ]
  },
  {
   "cell_type": "code",
   "execution_count": 57,
   "metadata": {},
   "outputs": [
    {
     "name": "stdout",
     "output_type": "stream",
     "text": [
      "abcdef\n",
      "d abc\n",
      "abcdefghi\n",
      "abcjdef\n"
     ]
    }
   ],
   "source": [
    "sss = 'abcdef'\n",
    "\n",
    "print(sss)\n",
    "print(sss[3], sss[:3])\n",
    "print(sss + 'ghi')\n",
    "ss1 = sss[:3] + 'j' + sss[3:]\n",
    "print(ss1)\n",
    "# sss[1] = 'a'"
   ]
  },
  {
   "cell_type": "markdown",
   "metadata": {},
   "source": [
    "=== class ==="
   ]
  },
  {
   "cell_type": "code",
   "execution_count": 31,
   "metadata": {},
   "outputs": [],
   "source": [
    "# class 만들기 : 속성 and 메서드 정의하기\n",
    "class Human1 :\n",
    "    def greeting(self) :\n",
    "        print(\"안녕하세요\")"
   ]
  },
  {
   "cell_type": "code",
   "execution_count": 32,
   "metadata": {},
   "outputs": [
    {
     "name": "stdout",
     "output_type": "stream",
     "text": [
      "안녕하세요\n"
     ]
    }
   ],
   "source": [
    "# instance 생성\n",
    "h1 = Human1()\n",
    "h1.greeting()"
   ]
  },
  {
   "cell_type": "code",
   "execution_count": 38,
   "metadata": {},
   "outputs": [],
   "source": [
    "class Human2 :\n",
    "    def greeting(self) :\n",
    "        print(\"안녕하세요\")\n",
    "    def sing_a_song(self) :\n",
    "        self.greeting()\n",
    "        print('랄라라라라라')"
   ]
  },
  {
   "cell_type": "code",
   "execution_count": 39,
   "metadata": {},
   "outputs": [
    {
     "name": "stdout",
     "output_type": "stream",
     "text": [
      "안녕하세요\n",
      "안녕하세요\n",
      "랄라라라라라\n"
     ]
    }
   ],
   "source": [
    "h2 = Human2()\n",
    "h2.greeting()\n",
    "h2.sing_a_song()"
   ]
  },
  {
   "cell_type": "code",
   "execution_count": 40,
   "metadata": {},
   "outputs": [],
   "source": [
    "# class 인스턴스 속성 초기화, 잘못된 예\n",
    "\n",
    "class Human3 :\n",
    "    def __init__(self) :\n",
    "        self.name = '나사람'\n",
    "        self.age = 20\n",
    "        self.city = 'busan'\n",
    "\n",
    "    def greeting(self) :\n",
    "        print(\"안녕하세요\")\n",
    "    def sing_a_song(self) :\n",
    "        self.greeting()\n",
    "        print('랄라라라라라')"
   ]
  },
  {
   "cell_type": "code",
   "execution_count": 44,
   "metadata": {},
   "outputs": [
    {
     "name": "stdout",
     "output_type": "stream",
     "text": [
      "나사람 나사람\n",
      "20 20\n"
     ]
    }
   ],
   "source": [
    "h31 = Human3()\n",
    "h32 = Human3()\n",
    "print(h31.name, h32.name)\n",
    "print(h31.age, h32.age)"
   ]
  },
  {
   "cell_type": "code",
   "execution_count": 45,
   "metadata": {},
   "outputs": [],
   "source": [
    "# class 인스턴스 속성 초기화\n",
    "\n",
    "class Human4 :\n",
    "\n",
    "    def __init__(self, name, age, city) :\n",
    "        self.name = name\n",
    "        self.age = age\n",
    "        self.city = city\n",
    "    def greeting(self) :\n",
    "        print(\"안녕하세요\")\n",
    "    def sing_a_song(self) :\n",
    "        self.greeting()\n",
    "        print('랄라라라라라')"
   ]
  },
  {
   "cell_type": "code",
   "execution_count": 47,
   "metadata": {},
   "outputs": [
    {
     "name": "stdout",
     "output_type": "stream",
     "text": [
      "나이름 나도이름\n",
      "22 23\n",
      "안녕하세요\n",
      "안녕하세요\n"
     ]
    }
   ],
   "source": [
    "h41 = Human4('나이름', 22, 'seoul')\n",
    "h42 = Human4('나도이름', 23, 'daejeon')\n",
    "print(h41.name, h42.name)\n",
    "print(h41.age, h42.age)\n",
    "h41.greeting()\n",
    "h42.greeting()"
   ]
  },
  {
   "cell_type": "code",
   "execution_count": 1,
   "metadata": {},
   "outputs": [],
   "source": [
    "# 클래스 속성 추가  (class 속성, instance 속성)\n",
    "\n",
    "class Human5 :\n",
    "    gender = ''\n",
    "    items = []\n",
    "    def __init__(self, name, age, city) :\n",
    "        self.name = name\n",
    "        self.age = age\n",
    "        self.city = city\n",
    "    def greeting(self) :\n",
    "        print(\"안녕하세요\")\n",
    "    def sing_a_song(self) :\n",
    "        self.greeting()\n",
    "        print('랄라라라라라')"
   ]
  },
  {
   "cell_type": "code",
   "execution_count": 3,
   "metadata": {},
   "outputs": [
    {
     "name": "stdout",
     "output_type": "stream",
     "text": [
      "['휴대폰', '휴대폰']\n"
     ]
    }
   ],
   "source": [
    "h5 = Human5('hong', 22, 'daejeon')\n",
    "\n",
    "# 클래스 속성에 직접 access, 안 좋은 방법\n",
    "h5.items.append(\"휴대폰\")  \n",
    "print(h5.items)"
   ]
  },
  {
   "cell_type": "code",
   "execution_count": 17,
   "metadata": {},
   "outputs": [],
   "source": [
    "# 클래스 속성에 접속하는 메소드 추가\n",
    "# 데이터를 클래스 내부 메소드를 통해서만 접근 가능하도록\n",
    "# 디버깅... 재사용성 등..\n",
    "\n",
    "class Human6 :\n",
    "    gender = ''\n",
    "    items = []\n",
    "    def __init__(self, name, age, city) :\n",
    "        self.name = name\n",
    "        self.age = age\n",
    "        self.city = city\n",
    "    def greeting(self) :\n",
    "        print(\"안녕하세요\")\n",
    "    def sing_a_song(self) :\n",
    "        self.greeting()\n",
    "        print('랄라라라라라')\n",
    "    def addItem(self, item) :\n",
    "        self.items.append(item)\n",
    "        print(item, '추가...')\n",
    "    def getItem(self) :\n",
    "        print(self.items)"
   ]
  },
  {
   "cell_type": "code",
   "execution_count": 18,
   "metadata": {},
   "outputs": [
    {
     "name": "stdout",
     "output_type": "stream",
     "text": [
      "휴대폰 추가...\n",
      "['휴대폰']\n"
     ]
    }
   ],
   "source": [
    "h6 = Human6('kim', 33, 'seoul')\n",
    "h6.addItem('휴대폰')\n",
    "h6.getItem()"
   ]
  },
  {
   "cell_type": "code",
   "execution_count": 22,
   "metadata": {},
   "outputs": [],
   "source": [
    "# 프로그램적으로 내부 속성을 내부 메소드만을 통해서 접속하도록 \n",
    "# private, public\n",
    "\n",
    "class Human7 :\n",
    "    gender = ''\n",
    "    __items = []\n",
    "    def __init__(self, name, age, city) :\n",
    "        self.name = name\n",
    "        self.age = age\n",
    "        self.city = city\n",
    "    def greeting(self) :\n",
    "        print(\"안녕하세요\")\n",
    "    def sing_a_song(self) :\n",
    "        self.greeting()\n",
    "        print('랄라라라라라')\n",
    "        \n",
    "    def addItem(self, item) :\n",
    "        self.__items.append(item)\n",
    "        print(item, '추가...')\n",
    "    def getItem(self) :\n",
    "        print(self.__items)"
   ]
  },
  {
   "cell_type": "code",
   "execution_count": 23,
   "metadata": {},
   "outputs": [
    {
     "name": "stdout",
     "output_type": "stream",
     "text": [
      "Kang\n",
      "[]\n"
     ]
    }
   ],
   "source": [
    "h7 = Human7('Kang', 34, 'daejeon')\n",
    "print(h7.name)\n",
    "# print(h7.items)\n",
    "# print(h7.__items)\n",
    "h7.getItem()"
   ]
  },
  {
   "cell_type": "code",
   "execution_count": 24,
   "metadata": {},
   "outputs": [
    {
     "name": "stdout",
     "output_type": "stream",
     "text": [
      "책한권 추가...\n",
      "['책한권']\n"
     ]
    }
   ],
   "source": [
    "h7.addItem(\"책한권\")\n",
    "h7.getItem()"
   ]
  },
  {
   "cell_type": "code",
   "execution_count": 29,
   "metadata": {},
   "outputs": [],
   "source": [
    "# private, 내부적으로 관리하는 데이타, 외부에 노출하는 데이타를 다르게\n",
    "\n",
    "class Human8 :\n",
    "    gender = ''\n",
    "    __items = []\n",
    "    def __init__(self, name, age, city) :\n",
    "        self.name = name\n",
    "        self.__age = age\n",
    "        self.city = city\n",
    "        \n",
    "    def greeting(self) :\n",
    "        print(\"안녕하세요\")\n",
    "    def sing_a_song(self) :\n",
    "        self.greeting()\n",
    "        print('랄라라라라라')\n",
    "        \n",
    "    def addItem(self, item) :\n",
    "        self.__items.append(item)\n",
    "        print(item, '추가...')\n",
    "    def getItem(self) :\n",
    "        print(self.__items)\n",
    "    \n",
    "    def getAge(self) :\n",
    "#         print(self.__age)\n",
    "        print(self.__age - 5)"
   ]
  },
  {
   "cell_type": "code",
   "execution_count": 31,
   "metadata": {},
   "outputs": [
    {
     "name": "stdout",
     "output_type": "stream",
     "text": [
      "20\n"
     ]
    }
   ],
   "source": [
    "h8 = Human8('Min', 25, 'seoul')\n",
    "# print(h8.__age)\n",
    "h8.getAge()"
   ]
  },
  {
   "cell_type": "code",
   "execution_count": 3,
   "metadata": {},
   "outputs": [],
   "source": [
    "# 정적 메소드 (static method)\n",
    "# instance가 따로 필요없이 클래스 자체를 그대로 이용 가능\n",
    "\n",
    "class Calcul :\n",
    "    @staticmethod\n",
    "    \n",
    "#     def add(self, a, b) :\n",
    "    def add(a, b) :\n",
    "        return a+b\n",
    "    "
   ]
  },
  {
   "cell_type": "code",
   "execution_count": 4,
   "metadata": {},
   "outputs": [
    {
     "data": {
      "text/plain": [
       "21"
      ]
     },
     "execution_count": 4,
     "metadata": {},
     "output_type": "execute_result"
    }
   ],
   "source": [
    "Calcul.add(10, 11)"
   ]
  },
  {
   "cell_type": "code",
   "execution_count": 6,
   "metadata": {},
   "outputs": [],
   "source": [
    "# 클래스의 상속\n",
    "class cHuman2 :\n",
    "    def __init__(self, name, age) :\n",
    "        self.name = name\n",
    "        self.age = age\n",
    "        \n",
    "    def greeting(self) :\n",
    "        print('Hi, 저는 %s입니다.'%self.name)"
   ]
  },
  {
   "cell_type": "code",
   "execution_count": 7,
   "metadata": {},
   "outputs": [
    {
     "name": "stdout",
     "output_type": "stream",
     "text": [
      "Hi, 저는 kim입니다.\n"
     ]
    }
   ],
   "source": [
    "kim = cHuman2('kim', 23)\n",
    "kim.greeting()"
   ]
  },
  {
   "cell_type": "code",
   "execution_count": 9,
   "metadata": {},
   "outputs": [
    {
     "name": "stdout",
     "output_type": "stream",
     "text": [
      "Hi, 저는 min입니다.\n"
     ]
    }
   ],
   "source": [
    "# class 상속\n",
    "\n",
    "class Student(cHuman2) :\n",
    "    pass\n",
    "\n",
    "min = Student('min', 45)\n",
    "min.greeting()"
   ]
  },
  {
   "cell_type": "code",
   "execution_count": 10,
   "metadata": {},
   "outputs": [
    {
     "name": "stdout",
     "output_type": "stream",
     "text": [
      "Hi, 저는 min2입니다.\n",
      "Hi, 저는 min입니다.\n"
     ]
    }
   ],
   "source": [
    "# class 상속, method 추가\n",
    "\n",
    "class Student(cHuman2) :\n",
    "    def study(self) :\n",
    "        print('열공중...')\n",
    "\n",
    "min2 = Student('min2', 45)\n",
    "min = cHuman2('min', 33)\n",
    "min2.greeting()\n",
    "min.greeting()"
   ]
  },
  {
   "cell_type": "code",
   "execution_count": 11,
   "metadata": {},
   "outputs": [
    {
     "name": "stdout",
     "output_type": "stream",
     "text": [
      "열공중...\n"
     ]
    }
   ],
   "source": [
    "min2.study()\n",
    "# min.study()"
   ]
  },
  {
   "cell_type": "code",
   "execution_count": 12,
   "metadata": {},
   "outputs": [],
   "source": [
    "# 자식 클래스에서 별도의 init method\n",
    "class Student2(cHuman2) :\n",
    "    def __init__(self, name, age, sid) :\n",
    "        self.name = name\n",
    "        self.age = age\n",
    "        self.sid = sid\n",
    "    \n",
    "    def study(self) :\n",
    "        print('열공중...')"
   ]
  },
  {
   "cell_type": "code",
   "execution_count": 14,
   "metadata": {},
   "outputs": [
    {
     "name": "stdout",
     "output_type": "stream",
     "text": [
      "Hi, 저는 나학생입니다.\n",
      "나학생\n",
      "열공중...\n"
     ]
    }
   ],
   "source": [
    "ss = Student2('나학생', 22, 12345)\n",
    "ss.greeting()   # 부모클래스 메소드 호출\n",
    "print(ss.name)\n",
    "ss.study()"
   ]
  },
  {
   "cell_type": "code",
   "execution_count": 48,
   "metadata": {},
   "outputs": [],
   "source": [
    "# 자식 클래스에서 별도의 method\n",
    "class Student2(cHuman2) :\n",
    "    def __init__(self, name, age, sid) :\n",
    "        self.name = name\n",
    "        self.age = age\n",
    "        self.sid = sid\n",
    "    \n",
    "    def study(self) :\n",
    "        print('열공중...')\n",
    "        \n",
    "    def greeting(self) :\n",
    "        print('안녕, student입니다.')"
   ]
  },
  {
   "cell_type": "code",
   "execution_count": 49,
   "metadata": {},
   "outputs": [
    {
     "name": "stdout",
     "output_type": "stream",
     "text": [
      "안녕, student입니다.\n"
     ]
    }
   ],
   "source": [
    "ss2 = Student2('나도학생', 33, 2345)\n",
    "ss2.greeting()   # 자식 본인의 메소드가 먼저 호출"
   ]
  },
  {
   "cell_type": "code",
   "execution_count": 50,
   "metadata": {},
   "outputs": [],
   "source": [
    "# 부모 클래스 super class method 호출하기\n",
    "class Student3(cHuman2) :\n",
    "    def __init__(self, name, age, sid) :\n",
    "        self.name = name\n",
    "        self.age = age\n",
    "        self.sid = sid\n",
    "    \n",
    "    def study(self) :\n",
    "        print('열공중...')\n",
    "        \n",
    "    def greeting(self) :\n",
    "        super().greeting()\n",
    "        print('안녕, student입니다.')"
   ]
  },
  {
   "cell_type": "code",
   "execution_count": 51,
   "metadata": {},
   "outputs": [
    {
     "name": "stdout",
     "output_type": "stream",
     "text": [
      "Hi, 저는 김나라입니다.\n",
      "안녕, student입니다.\n"
     ]
    }
   ],
   "source": [
    "ss3 = Student3('김나라', 31, 4323)\n",
    "ss3.greeting()"
   ]
  },
  {
   "cell_type": "code",
   "execution_count": 52,
   "metadata": {},
   "outputs": [
    {
     "name": "stdout",
     "output_type": "stream",
     "text": [
      "Hi, 저는 김대학생입니다.\n",
      "안녕, student입니다.\n"
     ]
    }
   ],
   "source": [
    "# 세번째 상속\n",
    "class colleage(Student3) :\n",
    "    pass\n",
    "\n",
    "c1 = colleage('김대학생', 22, 234)\n",
    "c1.greeting()"
   ]
  },
  {
   "cell_type": "code",
   "execution_count": 53,
   "metadata": {},
   "outputs": [],
   "source": [
    "# 다중 상속\n",
    "class university :\n",
    "    uni_name = ''\n",
    "    uni_address = ''\n",
    "    \n",
    "class colleage2(Student3, university) :\n",
    "    pass"
   ]
  },
  {
   "cell_type": "code",
   "execution_count": 54,
   "metadata": {},
   "outputs": [
    {
     "name": "stdout",
     "output_type": "stream",
     "text": [
      "Hi, 저는 남대학생입니다.\n",
      "안녕, student입니다.\n"
     ]
    }
   ],
   "source": [
    "c3 = colleage2('남대학생', 19, 2345) \n",
    "c3.uni_name = '해운대'\n",
    "c3.greeting()"
   ]
  },
  {
   "cell_type": "code",
   "execution_count": null,
   "metadata": {},
   "outputs": [],
   "source": [
    "# getInfo....\n",
    "## 다중상속 문제.... 속성끼리 꼬이는 거... 혼란... 예상치 못한 결과..\n",
    "# 따라서, 다중상속을 최소화... java c# 에서는 금지, c++ 가능\n",
    "# 추상 클래스-미구현 추상 메소드 존재, 자식 클래스에서 해당 추상 메소드를 반드시 구현\n",
    "#               instance 생성 시 에러 발생"
   ]
  }
 ],
 "metadata": {
  "kernelspec": {
   "display_name": "Python 3",
   "language": "python",
   "name": "python3"
  },
  "language_info": {
   "codemirror_mode": {
    "name": "ipython",
    "version": 3
   },
   "file_extension": ".py",
   "mimetype": "text/x-python",
   "name": "python",
   "nbconvert_exporter": "python",
   "pygments_lexer": "ipython3",
   "version": "3.7.9"
  },
  "toc": {
   "base_numbering": 1,
   "nav_menu": {},
   "number_sections": true,
   "sideBar": true,
   "skip_h1_title": false,
   "title_cell": "Table of Contents",
   "title_sidebar": "Contents",
   "toc_cell": false,
   "toc_position": {},
   "toc_section_display": true,
   "toc_window_display": false
  }
 },
 "nbformat": 4,
 "nbformat_minor": 4
}
