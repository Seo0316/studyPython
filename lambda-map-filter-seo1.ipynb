{
 "cells": [
  {
   "cell_type": "markdown",
   "metadata": {},
   "source": [
    "# 람다식의 기초\n",
    "* 익명함수 annonymous function (람다 표현식, lambda expression)  \n",
    "   * 이름이 없는 함수  \n",
    "   * lambda 인수: 반환값  \n",
    "   * def function(인수) :  \n",
    "        return 반환값  \n",
    "   * function = lambda 인수: 반환값"
   ]
  },
  {
   "cell_type": "code",
   "execution_count": 1,
   "metadata": {},
   "outputs": [
    {
     "data": {
      "text/plain": [
       "9"
      ]
     },
     "execution_count": 1,
     "metadata": {},
     "output_type": "execute_result"
    }
   ],
   "source": [
    "# 예: x^2를 출력하는 함수 pow1(x)\n",
    "def pow1(x):\n",
    "    return x ** 2\n",
    "pow1(3)"
   ]
  },
  {
   "cell_type": "code",
   "execution_count": 2,
   "metadata": {},
   "outputs": [
    {
     "data": {
      "text/plain": [
       "9"
      ]
     },
     "execution_count": 2,
     "metadata": {},
     "output_type": "execute_result"
    }
   ],
   "source": [
    "# pow1(x)와 동일한 기능을 하는 익명 함수 pow2\n",
    "pow2 = lambda x: x ** 2\n",
    "pow2(3)"
   ]
  },
  {
   "cell_type": "code",
   "execution_count": 6,
   "metadata": {},
   "outputs": [
    {
     "name": "stdout",
     "output_type": "stream",
     "text": [
      "9\n"
     ]
    }
   ],
   "source": [
    "# pow2에 인수 a를 전달하여, 계산 결과를 b에 저장\n",
    "a = 3\n",
    "b = pow2(a)\n",
    "print(b)"
   ]
  },
  {
   "cell_type": "code",
   "execution_count": 6,
   "metadata": {},
   "outputs": [
    {
     "data": {
      "text/plain": [
       "10"
      ]
     },
     "execution_count": 6,
     "metadata": {},
     "output_type": "execute_result"
    }
   ],
   "source": [
    "def add1(x, y):\n",
    "    return x + y\n",
    "\n",
    "add1(3, 7)"
   ]
  },
  {
   "cell_type": "code",
   "execution_count": 4,
   "metadata": {},
   "outputs": [],
   "source": [
    "# 예: 두 인수를 더하는 함수 add2\n",
    "add2 = lambda x, y: x + y"
   ]
  },
  {
   "cell_type": "code",
   "execution_count": 5,
   "metadata": {},
   "outputs": [
    {
     "name": "stdout",
     "output_type": "stream",
     "text": [
      "10\n"
     ]
    }
   ],
   "source": [
    "n = add2(3, 7)\n",
    "print(n)"
   ]
  },
  {
   "cell_type": "code",
   "execution_count": 7,
   "metadata": {},
   "outputs": [
    {
     "name": "stdout",
     "output_type": "stream",
     "text": [
      "10\n"
     ]
    }
   ],
   "source": [
    "print((lambda x, y: x + y)(3, 7))"
   ]
  },
  {
   "cell_type": "code",
   "execution_count": 11,
   "metadata": {
    "scrolled": true
   },
   "outputs": [
    {
     "name": "stdout",
     "output_type": "stream",
     "text": [
      "5 6 2\n",
      "32\n",
      "32\n"
     ]
    }
   ],
   "source": [
    "x, y, z = 5, 6, 2\n",
    "print(x,y,z)\n",
    "\n",
    "def func3(x, y, z):\n",
    "    return x*y + z\n",
    "\n",
    "# lambda를 이용\n",
    "func4 = lambda x, y, z: x*y + z\n",
    "\n",
    "print(func3(x, y, z))\n",
    "print(func4(x, y, z))"
   ]
  },
  {
   "cell_type": "code",
   "execution_count": 9,
   "metadata": {},
   "outputs": [
    {
     "name": "stdout",
     "output_type": "stream",
     "text": [
      "18\n"
     ]
    }
   ],
   "source": [
    "# 일반함수 생성 규칙\n",
    "c = 3\n",
    "d = 4\n",
    "print((lambda c, d, f = 11: c + d + f)(c, d))"
   ]
  },
  {
   "cell_type": "code",
   "execution_count": 10,
   "metadata": {},
   "outputs": [
    {
     "ename": "SyntaxError",
     "evalue": "invalid syntax (<ipython-input-10-1b437ea1d5f5>, line 2)",
     "output_type": "error",
     "traceback": [
      "\u001b[1;36m  File \u001b[1;32m\"<ipython-input-10-1b437ea1d5f5>\"\u001b[1;36m, line \u001b[1;32m2\u001b[0m\n\u001b[1;33m    print((lambda x: y = 10; x + y)(1))\u001b[0m\n\u001b[1;37m                       ^\u001b[0m\n\u001b[1;31mSyntaxError\u001b[0m\u001b[1;31m:\u001b[0m invalid syntax\n"
     ]
    }
   ],
   "source": [
    "# 람다 반환값(표현식) 부분에 새로운 변수 선언 불가\n",
    "print((lambda x: y = 10; x + y)(1))"
   ]
  },
  {
   "cell_type": "code",
   "execution_count": 12,
   "metadata": {},
   "outputs": [
    {
     "name": "stdout",
     "output_type": "stream",
     "text": [
      "30\n"
     ]
    }
   ],
   "source": [
    "# 람다 표현식 바깥에 있는 변수는 사용 가능\n",
    "bb = 10\n",
    "print((lambda aa: aa + bb)(20))"
   ]
  },
  {
   "cell_type": "code",
   "execution_count": 16,
   "metadata": {},
   "outputs": [
    {
     "name": "stdout",
     "output_type": "stream",
     "text": [
      "hello\n"
     ]
    }
   ],
   "source": [
    "# 람다는 def로 정의한 함수와 달리 반환값 부분에 expression(식)만 넣을 수 있다.\n",
    "# 아래는 \"hello\"를 출력하는 함수인데, lambda로 만들 수 없다.\n",
    "def say_hello():\n",
    "    print(\"hello\")\n",
    "    \n",
    "say_hello()"
   ]
  },
  {
   "cell_type": "code",
   "execution_count": 13,
   "metadata": {},
   "outputs": [
    {
     "data": {
      "text/plain": [
       "8.0"
      ]
     },
     "execution_count": 13,
     "metadata": {},
     "output_type": "execute_result"
    }
   ],
   "source": [
    "# if 조건문\n",
    "# 인수가 3 미만이면 2를 곱하고, 3 이상이면 3으로 나누어 5를 더하는 함수\n",
    "\n",
    "def lower1(x):\n",
    "    if x < 5:\n",
    "        return x * 2\n",
    "    else:\n",
    "        return x/5 + 5\n",
    "    \n",
    "lower_1(9)"
   ]
  },
  {
   "cell_type": "code",
   "execution_count": 14,
   "metadata": {},
   "outputs": [
    {
     "data": {
      "text/plain": [
       "8.0"
      ]
     },
     "execution_count": 14,
     "metadata": {},
     "output_type": "execute_result"
    }
   ],
   "source": [
    "# lower_1와 동일한 함수\n",
    "# 삼항연산자를 이용하여 lambda 작성\n",
    "# func = lambda 인수: 조건을 만족할 경우의 처리식 if 조건 else 조건을 만족하지 않을 경우의 처리식\n",
    "lower_2 = lambda x: x * 2 if x < 3 else x/3 + 5\n",
    "lower_2(9)"
   ]
  },
  {
   "cell_type": "markdown",
   "metadata": {},
   "source": [
    "# 고차함수(higher-order function) map()\n",
    "* 람다 표현식을 사용하는 이유는 함수의 인수 부분에서 간단하게 함수를 만들기 위해서이다.\n",
    "* 이런 방식으로 사용하는 대표적인 예가 map, map(함수, 리스트)\n",
    "* map 함수는 리스트에서 원소를 하나씩 꺼내서 함수를 적용시킨 결과를 새로운 리스트에 넣어 리턴"
   ]
  },
  {
   "cell_type": "code",
   "execution_count": 15,
   "metadata": {},
   "outputs": [
    {
     "data": {
      "text/plain": [
       "[11, 12, 13]"
      ]
     },
     "execution_count": 15,
     "metadata": {},
     "output_type": "execute_result"
    }
   ],
   "source": [
    "def plus_ten(x):\n",
    "    return x + 10\n",
    "\n",
    "list(map(plus_ten, [1, 2, 3]))"
   ]
  },
  {
   "cell_type": "code",
   "execution_count": 16,
   "metadata": {},
   "outputs": [
    {
     "data": {
      "text/plain": [
       "[11, 12, 13]"
      ]
     },
     "execution_count": 16,
     "metadata": {},
     "output_type": "execute_result"
    }
   ],
   "source": [
    "list(map(lambda x: x + 10, [1, 2, 3]))"
   ]
  },
  {
   "cell_type": "code",
   "execution_count": 23,
   "metadata": {},
   "outputs": [
    {
     "name": "stdout",
     "output_type": "stream",
     "text": [
      "[0, 1, 4, 9, 16]\n",
      "[0, 1, 4, 9, 16]\n"
     ]
    }
   ],
   "source": [
    "def sq(x):\n",
    "    return x ** 2\n",
    "print(list(map(sq, range(5))))\n",
    "\n",
    "print(list(map(lambda x: x ** 2, range(5))))"
   ]
  },
  {
   "cell_type": "code",
   "execution_count": 24,
   "metadata": {},
   "outputs": [
    {
     "name": "stdout",
     "output_type": "stream",
     "text": [
      "[1, 3, 2, 4, 5]\n"
     ]
    }
   ],
   "source": [
    "# 절대값 구하기\n",
    "a = [1, -3, 2, -4, 5]\n",
    "new = []\n",
    "for x in a:\n",
    "    new.append(abs(x))\n",
    "print(new)"
   ]
  },
  {
   "cell_type": "code",
   "execution_count": 17,
   "metadata": {},
   "outputs": [
    {
     "data": {
      "text/plain": [
       "[1, 3, 2, 4, 5]"
      ]
     },
     "execution_count": 17,
     "metadata": {},
     "output_type": "execute_result"
    }
   ],
   "source": [
    "# map(함수, 리스트)\n",
    "a = [1, -3, 2, -4, 5]\n",
    "list(map(abs, a))"
   ]
  },
  {
   "cell_type": "code",
   "execution_count": 18,
   "metadata": {},
   "outputs": [
    {
     "data": {
      "text/plain": [
       "[1, 3, 2, 4, 5]"
      ]
     },
     "execution_count": 18,
     "metadata": {},
     "output_type": "execute_result"
    }
   ],
   "source": [
    "list(map(lambda x: x if x>=0 else -x, a))"
   ]
  },
  {
   "cell_type": "markdown",
   "metadata": {},
   "source": [
    "# reduce()\n",
    "   * 순서형 자료(문자열, 리스트, 튜플)의 원소들을 누적적/연속적으로 함수에 적용(재귀)  \n",
    "   * reduce(함수, 순서형자료)"
   ]
  },
  {
   "cell_type": "code",
   "execution_count": 1,
   "metadata": {},
   "outputs": [
    {
     "data": {
      "text/plain": [
       "15"
      ]
     },
     "execution_count": 1,
     "metadata": {},
     "output_type": "execute_result"
    }
   ],
   "source": [
    "from functools import reduce\n",
    "reduce(lambda x, y: x + y, [0, 1, 2, 3, 4, 5])"
   ]
  },
  {
   "cell_type": "code",
   "execution_count": 28,
   "metadata": {},
   "outputs": [
    {
     "data": {
      "text/plain": [
       "'edcba'"
      ]
     },
     "execution_count": 28,
     "metadata": {},
     "output_type": "execute_result"
    }
   ],
   "source": [
    "reduce(lambda x, y: y + x, 'abcde')"
   ]
  },
  {
   "cell_type": "markdown",
   "metadata": {},
   "source": [
    "# 리스트 분할 split()\n",
    "* 문자열을 공백이나 슬래시(/) 등으로 분할할 때 사용하는 함수\n",
    "* 분할하여 리스트 생성\n",
    "* `나눌문자열.split('구분기호', 분할횟수)`, 횟수지정 없으면 끝까지 적용"
   ]
  },
  {
   "cell_type": "code",
   "execution_count": 29,
   "metadata": {},
   "outputs": [
    {
     "data": {
      "text/plain": [
       "['this', 'is', 'a', 'test', 'sentence']"
      ]
     },
     "execution_count": 29,
     "metadata": {},
     "output_type": "execute_result"
    }
   ],
   "source": [
    "ss = 'this is a test sentence'\n",
    "ss.split(' ')"
   ]
  },
  {
   "cell_type": "code",
   "execution_count": 30,
   "metadata": {},
   "outputs": [
    {
     "name": "stdout",
     "output_type": "stream",
     "text": [
      "SEO\n"
     ]
    }
   ],
   "source": [
    "self = \"My name is SEO\"\n",
    "\n",
    "word_list = self.split(\" \")\n",
    "\n",
    "# \"이름\"을 출력\n",
    "print(word_list[3])"
   ]
  },
  {
   "cell_type": "markdown",
   "metadata": {},
   "source": [
    "# 리스트분할 re.split()\n",
    "* 여러 기호로 문자열을 분할 할 경우에는 re 모듈에 포함된 re.split() 함수 사용  \n",
    "* re.split('구분기호', 분할할문자열)"
   ]
  },
  {
   "cell_type": "code",
   "execution_count": 31,
   "metadata": {},
   "outputs": [
    {
     "data": {
      "text/plain": [
       "['this', 'is', 'a', 'test', 'sentence']"
      ]
     },
     "execution_count": 31,
     "metadata": {},
     "output_type": "execute_result"
    }
   ],
   "source": [
    "import re\n",
    "ss = \"this,is a.test,sentence\"\n",
    "re.split(\"[, .]\", ss)"
   ]
  },
  {
   "cell_type": "code",
   "execution_count": 32,
   "metadata": {},
   "outputs": [
    {
     "name": "stdout",
     "output_type": "stream",
     "text": [
      "10\n",
      "22\n"
     ]
    }
   ],
   "source": [
    "time_data = \"2020/10/25_22:15\"\n",
    "\n",
    "time_list = re.split(\"[/_:]\",time_data)\n",
    "\n",
    "# \"월\"과 \"시\"를 출력하세요\n",
    "print(time_list[1])\n",
    "print(time_list[3])"
   ]
  },
  {
   "cell_type": "markdown",
   "metadata": {},
   "source": [
    "# filter()\n",
    "* 리스트의 각 요소에서 조건에 맞는 요소만 꺼내고 싶을 때 사용  \n",
    "* `filter(조건이되는함수, 배열)`  조건이 되는 함수란 True/False를 반환하는 함수  \n",
    "* `list(filter(함수, 배열))` : 리스트에 저장"
   ]
  },
  {
   "cell_type": "code",
   "execution_count": 33,
   "metadata": {},
   "outputs": [
    {
     "name": "stdout",
     "output_type": "stream",
     "text": [
      "[1, 3, 5]\n"
     ]
    }
   ],
   "source": [
    "# for 루프로 양수 필터링\n",
    "a = [1, -2, 3, -4, 5]\n",
    "new = []\n",
    "for x in a:\n",
    "    if x > 0:\n",
    "        new.append(x)\n",
    "\n",
    "print(new)"
   ]
  },
  {
   "cell_type": "code",
   "execution_count": 41,
   "metadata": {},
   "outputs": [
    {
     "data": {
      "text/plain": [
       "[1, 3, 5]"
      ]
     },
     "execution_count": 41,
     "metadata": {},
     "output_type": "execute_result"
    }
   ],
   "source": [
    "# filter 함수로 필터링\n",
    "a = [1, -2, 3, -4, 5]\n",
    "list(filter(lambda x: x>0, a)) # True False True Flase True"
   ]
  },
  {
   "cell_type": "code",
   "execution_count": 44,
   "metadata": {},
   "outputs": [
    {
     "data": {
      "text/plain": [
       "[0, 1, 2, 3, 4]"
      ]
     },
     "execution_count": 44,
     "metadata": {},
     "output_type": "execute_result"
    }
   ],
   "source": [
    "list(filter(lambda x: x < 5, range(10)))"
   ]
  },
  {
   "cell_type": "code",
   "execution_count": 45,
   "metadata": {},
   "outputs": [
    {
     "data": {
      "text/plain": [
       "[1, 3, 5, 7, 9]"
      ]
     },
     "execution_count": 45,
     "metadata": {},
     "output_type": "execute_result"
    }
   ],
   "source": [
    "list(filter(lambda x: x % 2, range(10)))"
   ]
  },
  {
   "cell_type": "code",
   "execution_count": 46,
   "metadata": {},
   "outputs": [
    {
     "name": "stdout",
     "output_type": "stream",
     "text": [
      "['2019/1/16_21:35', '2017/5/4_15:26']\n"
     ]
    }
   ],
   "source": [
    "import re\n",
    "\n",
    "time_list = [\n",
    "    \"2016/11/26_3:40\",\n",
    "    \"2019/1/16_21:35\",\n",
    "    \"2017/5/4_15:26\",\n",
    "    \"2020/8/9_7:7\",\n",
    "    \"2020/10/1_23:15\"\n",
    "]\n",
    "\n",
    "# 문자열의 \"월\"이 1~6월(상반기) 조건을 채울 때 True를 반환하는 함수\n",
    "# is_first_half = lambda x: int(re.split(\"[/_:]\", x)[1]) - 7 < 0\n",
    "is_first_half = lambda x: int(re.split(\"[/_:]\", x)[1]) <= 6\n",
    "\n",
    "# 위에서 만든 함수로 조건에 맞는 요소를 찾아내, 배열로 생성\n",
    "first_half_list = list(filter(is_first_half, time_list))\n",
    "\n",
    "# 출력\n",
    "print(first_half_list)"
   ]
  },
  {
   "cell_type": "markdown",
   "metadata": {},
   "source": [
    "# 정렬 sorted()\n",
    "* `sorted(정렬하려는배열, key=키가되는함수, reverse=True or False)` \n",
    "* 디폴트는 오름차순(False)  \n",
    "* `정렬된배열 = sorted(정렬하려는배열, key=lambda )`"
   ]
  },
  {
   "cell_type": "code",
   "execution_count": 47,
   "metadata": {},
   "outputs": [
    {
     "name": "stdout",
     "output_type": "stream",
     "text": [
      "[[4, 5], [3, 6], [2, 7], [1, 8], [0, 9]]\n"
     ]
    }
   ],
   "source": [
    "nest_list =[\n",
    "    [0, 9],\n",
    "    [1, 8],\n",
    "    [2, 7],\n",
    "    [3, 6],\n",
    "    [4, 5]\n",
    "]\n",
    "\n",
    "# 두번째 요소를 키로 하여 정렬합니다\n",
    "print(sorted(nest_list, key = lambda x: x [1]))"
   ]
  },
  {
   "cell_type": "code",
   "execution_count": 48,
   "metadata": {},
   "outputs": [
    {
     "name": "stdout",
     "output_type": "stream",
     "text": [
      "[[2016, 11, 26, 2, 40], [2014, 5, 4, 14, 26], [2020, 8, 9, 17, 5], [2020, 4, 1, 22, 15], [2019, 10, 16, 23, 35]]\n"
     ]
    }
   ],
   "source": [
    "time_data = [\n",
    "    [2016, 11, 26, 2, 40],\n",
    "    [2019, 10, 16, 23, 35],\n",
    "    [2014, 5, 4, 14, 26],\n",
    "    [2020, 8, 9, 17, 5],\n",
    "    [2020, 4, 1, 22, 15]\n",
    "]\n",
    "\n",
    "# \"시\"를 키로 정렬하고 배열로 생성\n",
    "sort_by_time = sorted(time_data, key=lambda x: x[3])\n",
    "\n",
    "print(sort_by_time)"
   ]
  },
  {
   "cell_type": "markdown",
   "metadata": {},
   "source": [
    "# 리스트 내포(list comprehension)  \n",
    "* map()을 이용한 배열 생성방법은 시간이 많이 걸린다.  \n",
    "   * map()은 반복자 작성에 특화, 단순 배열을 만들때는 리스트 내포를 사용\n",
    "* 단순한 배열은 for 루프의 list comprehension을 이용  \n",
    "* `[적용하려는함수(요소) for 요소 in 적용할원본배열]` "
   ]
  },
  {
   "cell_type": "code",
   "execution_count": 50,
   "metadata": {},
   "outputs": [
    {
     "name": "stdout",
     "output_type": "stream",
     "text": [
      "[1, 2, 3, 4, 5]\n"
     ]
    }
   ],
   "source": [
    "# 리스트 내포로 각 요소의 절대값 리스트 구하기\n",
    "a = [1, -2, 3, -4, 5]\n",
    "print([abs(x) for x in a])"
   ]
  },
  {
   "cell_type": "code",
   "execution_count": 52,
   "metadata": {},
   "outputs": [
    {
     "name": "stdout",
     "output_type": "stream",
     "text": [
      "[1, 2, 3, 4, 5]\n"
     ]
    },
    {
     "data": {
      "text/plain": [
       "[1, 2, 3, 4, 5]"
      ]
     },
     "execution_count": 52,
     "metadata": {},
     "output_type": "execute_result"
    }
   ],
   "source": [
    "# map으로 절대값 리스트 생성\n",
    "a = [1, -2, 3, -4, 5]\n",
    "print(list(map(abs, a)))\n",
    "\n",
    "list(map(lambda x: x if x>=0 else -x, a))"
   ]
  },
  {
   "cell_type": "code",
   "execution_count": 54,
   "metadata": {},
   "outputs": [
    {
     "name": "stdout",
     "output_type": "stream",
     "text": [
      "[[0, 30], [2, 35], [3, 0], [1, 14], [0, 11], [1, 0], [1, 22]]\n"
     ]
    }
   ],
   "source": [
    "# minute_data, 단위는 분\n",
    "minute_data = [30, 155, 180, 74, 11, 60, 82]\n",
    "\n",
    "# 분을 [시, 분]으로 변환하는 함수\n",
    "h_m_split = lambda x: [x // 60, x % 60]\n",
    "\n",
    "# 리스트 내포를 사용하여 배열을 작성\n",
    "h_m_data = [h_m_split(x) for x in minute_data]\n",
    "\n",
    "print(h_m_data)"
   ]
  },
  {
   "cell_type": "code",
   "execution_count": 55,
   "metadata": {},
   "outputs": [
    {
     "name": "stdout",
     "output_type": "stream",
     "text": [
      "[1, 3, 5]\n"
     ]
    }
   ],
   "source": [
    "# 리스트 내포 필터링(후위 if), postfix notation (연산자를 연산 대상 뒤에 쓰는 연산 표기법)\n",
    "a = [1, -2, 3, -4, 5]\n",
    "print([x for x in a if x > 0])"
   ]
  },
  {
   "cell_type": "code",
   "execution_count": 56,
   "metadata": {},
   "outputs": [
    {
     "name": "stdout",
     "output_type": "stream",
     "text": [
      "[180, 60]\n"
     ]
    }
   ],
   "source": [
    "# minute_data, 단위는 분\n",
    "minute_data = [30, 155, 180, 74, 11, 60, 82]\n",
    "\n",
    "# 리스트 내포를 사용하여 배열을 작성\n",
    "just_hour_data = [x for x in minute_data if x % 60 == 0 ]\n",
    "\n",
    "print(just_hour_data)"
   ]
  },
  {
   "cell_type": "code",
   "execution_count": 57,
   "metadata": {},
   "outputs": [
    {
     "name": "stdout",
     "output_type": "stream",
     "text": [
      "1 9\n",
      "-2 8\n",
      "3 -7\n",
      "-4 -6\n",
      "5 -5\n"
     ]
    }
   ],
   "source": [
    "# zip을 이용한 동시 루프\n",
    "a = [1, -2, 3, -4, 5]\n",
    "b = [9, 8, -7, -6, -5]\n",
    "for x, y in zip(a, b):\n",
    "    print(x, y)"
   ]
  },
  {
   "cell_type": "code",
   "execution_count": 58,
   "metadata": {},
   "outputs": [
    {
     "name": "stdout",
     "output_type": "stream",
     "text": [
      "[82, 68, 58, 52, 50]\n"
     ]
    }
   ],
   "source": [
    "# 리스트 내포로 동시에 처리\n",
    "a = [1, -2, 3, -4, 5]\n",
    "b = [9, 8, -7, -6, -5]\n",
    "print([x**2 + y**2 for x, y in zip(a, b)])"
   ]
  },
  {
   "cell_type": "code",
   "execution_count": 59,
   "metadata": {},
   "outputs": [
    {
     "name": "stdout",
     "output_type": "stream",
     "text": [
      "[30, 155, 180, 74, 11, 60, 82]\n"
     ]
    }
   ],
   "source": [
    "# 시간 데이터 hour, 분 데이터 minute\n",
    "hour = [0, 2, 3, 1, 0, 1, 1]\n",
    "minute = [30, 35, 0, 14, 11, 0, 22]\n",
    "\n",
    "# 시, 분을 인수로 받은 뒤, 분으로 변환하는 함수\n",
    "h_m_combine = lambda x, y: x*60 + y\n",
    "\n",
    "# 리스트 내포를 사용하여 배열을 작성\n",
    "minute_data1 = [h_m_combine(x, y) for x, y in zip(hour, minute)]\n",
    "\n",
    "print(minute_data1)"
   ]
  },
  {
   "cell_type": "code",
   "execution_count": 60,
   "metadata": {},
   "outputs": [
    {
     "name": "stdout",
     "output_type": "stream",
     "text": [
      "1 9\n",
      "1 8\n",
      "-2 9\n",
      "-2 8\n",
      "3 9\n",
      "3 8\n"
     ]
    }
   ],
   "source": [
    "a = [1, -2, 3]\n",
    "b = [9, 8]\n",
    "\n",
    "# 이중 루프\n",
    "for x in a:\n",
    "    for y in b:\n",
    "        print(x, y)"
   ]
  },
  {
   "cell_type": "code",
   "execution_count": 61,
   "metadata": {},
   "outputs": [
    {
     "name": "stdout",
     "output_type": "stream",
     "text": [
      "[[1, 9], [1, 8], [-2, 9], [-2, 8], [3, 9], [3, 8]]\n"
     ]
    }
   ],
   "source": [
    "# 리스트 내포로 이중 루프 생성\n",
    "print([[x, y] for x in a for y in b])"
   ]
  },
  {
   "cell_type": "code",
   "execution_count": 62,
   "metadata": {},
   "outputs": [
    {
     "name": "stdout",
     "output_type": "stream",
     "text": [
      "[0, 1, 2, 3, 4, 5, 6, 7]\n"
     ]
    }
   ],
   "source": [
    "# 이진수의 자리\n",
    "fours_place = [0, 1]\n",
    "twos_place = [0, 1]\n",
    "ones_place = [0, 1]\n",
    "\n",
    "# 리스트 내포에서 다중 루프를 사용하여 0에서 7까지의 정수를 계산하여 배열로 생성\n",
    "digit = [x*4 + y*2 + z for x in fours_place for y in twos_place for z in ones_place]\n",
    "\n",
    "print(digit)"
   ]
  },
  {
   "cell_type": "markdown",
   "metadata": {},
   "source": [
    "# dictionary 객체"
   ]
  },
  {
   "cell_type": "code",
   "execution_count": null,
   "metadata": {},
   "outputs": [],
   "source": [
    "# 딕셔너리의 요소가 출현한 횟수를 기록합니다\n",
    "d = {}\n",
    "lst = [\"foo\", \"bar\", \"pop\", \"pop\", \"foo\", \"popo\"]\n",
    "for key in lst:\n",
    "    # d에 key가 존재하느냐에 따라 분류합니다\n",
    "    if key in d:\n",
    "        d[key] += 1\n",
    "    else:\n",
    "        d[key] = 1\n",
    "\n",
    "print(d)\n"
   ]
  },
  {
   "cell_type": "code",
   "execution_count": null,
   "metadata": {},
   "outputs": [],
   "source": [
    "from collections import defaultdict\n",
    "\n",
    "# 딕셔너리의 요소가 출현한 횟수를 기록합니다\n",
    "d = defaultdict(int)\n",
    "lst = [\"foo\", \"bar\", \"pop\", \"pop\", \"foo\", \"popo\"]\n",
    "for key in lst:\n",
    "    d[key] += 1\n",
    "\n",
    "print(d)\n"
   ]
  },
  {
   "cell_type": "code",
   "execution_count": null,
   "metadata": {},
   "outputs": [],
   "source": [
    "from collections import defaultdict\n",
    "\n",
    "# 문자열 description\n",
    "description = \\\n",
    "\"Artificial intelligence (AI, also machine intelligence, MI) is \" + \\\n",
    "\"intelligence exhibited by machines, rather than \" + \\\n",
    "\"humans or other animals (natural intelligence, NI).\"\n",
    "\n",
    "# defaultdict를 정의하세요\n",
    "char_freq = defaultdict(int)\n",
    "\n",
    "# 문자의 출현 횟수를 기록 하세요\n",
    "for i in description:\n",
    "    char_freq[i] += 1\n",
    "\n",
    "# 정렬하고 상위 10개의 요소를 출력하세요\n",
    "print(sorted(char_freq.items(), key=lambda x: x[1], reverse=True)[:10])\n"
   ]
  },
  {
   "cell_type": "code",
   "execution_count": null,
   "metadata": {},
   "outputs": [],
   "source": [
    "from collections import defaultdict\n",
    "defaultdict(list)"
   ]
  },
  {
   "cell_type": "code",
   "execution_count": null,
   "metadata": {},
   "outputs": [],
   "source": [
    "# 딕셔너리에 value 요소를 추가합니다\n",
    "d = {}\n",
    "price = [\n",
    "    (\"apple\", 50),\n",
    "    (\"banana\", 120),\n",
    "    (\"grape\", 500),\n",
    "    (\"apple\", 70),\n",
    "    (\"lemon\", 150),\n",
    "    (\"grape\", 1000)\n",
    "]\n",
    "\n",
    "for key, value in price:\n",
    "    # key의 존재 유무로 분기합니다\n",
    "    if key in d:\n",
    "        d[key].append(value)\n",
    "    else:\n",
    "        d[key] = [value]\n",
    "        \n",
    "print(d)\n"
   ]
  },
  {
   "cell_type": "code",
   "execution_count": null,
   "metadata": {},
   "outputs": [],
   "source": [
    "from collections import defaultdict\n",
    "\n",
    "# 요약할 데이터 price ...(이름, 값)입니다\n",
    "price = [\n",
    "    (\"apple\", 50),\n",
    "    (\"banana\", 120),\n",
    "    (\"grape\", 500),\n",
    "    (\"apple\", 70),\n",
    "    (\"lemon\", 150),\n",
    "    (\"grape\", 1000)\n",
    "]\n",
    "\n",
    "# defaultdict를 정의하세요\n",
    "d = defaultdict(list)\n",
    "\n",
    "# 리스트 13.52처럼 value를 추가하세요\n",
    "for key, value in price:\n",
    "    d[key].append(value)\n",
    "\n",
    "# 각 value의 평균을 계산하고, 배열로 만들어 출력하세요\n",
    "print([sum(x) / len(x) for x in d.values()])"
   ]
  },
  {
   "cell_type": "code",
   "execution_count": null,
   "metadata": {},
   "outputs": [],
   "source": [
    "# Counter를 import합니다\n",
    "from collections import Counter\n",
    "\n",
    "# 딕셔너리 요소의 출현 횟수를 기록합니다\n",
    "lst = [\"foo\", \"bar\", \"pop\", \"pop\", \"foo\", \"popo\"]\n",
    "d = Counter(lst)\n",
    "\n",
    "print(d)\n"
   ]
  },
  {
   "cell_type": "code",
   "execution_count": null,
   "metadata": {
    "scrolled": true
   },
   "outputs": [],
   "source": [
    "# Counter로 문자열을 저장하고, 문자의 출현 빈도를 열거합니다\n",
    "d = Counter(\"A Counter is a dict subclass for counting hashable objects.\")\n",
    "\n",
    "# 가장 많은 출현 빈도를 가진 요소 5개를 나열합니다\n",
    "print(d.most_common(5))"
   ]
  },
  {
   "cell_type": "code",
   "execution_count": null,
   "metadata": {},
   "outputs": [],
   "source": [
    "from collections import Counter\n",
    "# 문자열 description입니다\n",
    "description = \\\n",
    "\"Artificial intelligence (AI, also machine intelligence, MI) is \" + \\\n",
    "\"intelligence exhibited by machines, rather than \" + \\\n",
    "\"humans or other animals (natural intelligence, NI).\" \n",
    "\n",
    "# Counter를 정의하세요\n",
    "char_freq = Counter(description)\n",
    "\n",
    "# 정렬하고 출현 빈도 상위 10개를 출력하세요\n",
    "print(char_freq.most_common(10))"
   ]
  },
  {
   "cell_type": "code",
   "execution_count": null,
   "metadata": {},
   "outputs": [],
   "source": [
    "# if와 lambda를 사용하여 계산하세요(인수 a가 8 미만이면 5를 곱하고, 8 이상이면 2로 나누기)\n",
    "a = 8\n",
    "basic = lambda x: x * 5 if x < 8 else x / 2\n",
    "print('계산결과')\n",
    "print(basic(a))\n",
    "\n",
    "import re\n",
    "# 배열 time_list\n",
    "time_list = [\n",
    "    \"2018/1/23_19:40\",\n",
    "    \"2016/5/7_5:25\",\n",
    "    \"2018/8/21_10:50\",\n",
    "    \"2017/8/9_7:5\",\n",
    "    \"2015/4/1_22:15\"\n",
    "]\n",
    "\n",
    "# 문자열에서 \"월\"을 꺼내는 함수를 작성하세요\n",
    "get_month = lambda x: int(re.split(\"[/_:]\",x)[1])\n",
    "\n",
    "# 각 요소의 \"월\"을 꺼내 배열로 만듭니다\n",
    "month_list = list(map(get_month, time_list))\n",
    "\n",
    "# 출력하세요\n",
    "print()\n",
    "print('월')\n",
    "print(month_list)\n",
    "\n",
    "# 리스트 내포를 사용하여 부피를 계산하세요\n",
    "length= [3, 1, 6, 2, 8, 2, 9]\n",
    "side = [4, 1, 15, 18, 7, 2, 19]\n",
    "height = [10, 15, 17, 13, 11, 19, 18]\n",
    "\n",
    "# 부피를 계산하세요\n",
    "volume = [x * y * z for x, y,z in zip(length, side, height)]\n",
    "\n",
    "# 출력하세요\n",
    "print()\n",
    "print('부피')\n",
    "print(volume)\n",
    "\n",
    "# 각 value의 평균값을 계산하고 price 리스트 내의 과일 이름을 열거하세요\n",
    "from collections import defaultdict\n",
    "from collections import Counter\n",
    "\n",
    "# 요약할 데이터 price\n",
    "price = [\n",
    "    (\"strawberry\", 520),\n",
    "    (\"pear\", 200),\n",
    "    (\"peach\", 400),\n",
    "    (\"apple\", 170),\n",
    "    (\"lemon\", 150),\n",
    "    (\"grape\", 1000),\n",
    "    (\"strawberry\", 750),\n",
    "    (\"pear\", 400),\n",
    "    (\"peach\", 500),\n",
    "    (\"strawberry\", 70),\n",
    "    (\"lemon\", 300),\n",
    "    (\"strawberry\", 700)\n",
    "]\n",
    "\n",
    "# defaultdict를 정의하세요\n",
    "d = defaultdict(list)\n",
    "\n",
    "# value에 가격을, key에 과일 이름을 추가하세요\n",
    "price_key_count = []\n",
    "for key, value in price:\n",
    "    d[key].append(value)\n",
    "    price_key_count.append(key)\n",
    "\n",
    "# 각 value의 평균을 계산하고, 배열로 만들어 출력하세요\n",
    "print()\n",
    "print('value의 평균값')\n",
    "print([sum(x) / len(x) for x in d.values()])\n",
    "\n",
    "# 위의 price 리스트 중에서 과일 이름을 열거합니다\n",
    "key_count = Counter(price_key_count)\n",
    "print()\n",
    "print('과일 이름')\n",
    "print(key_count)\n"
   ]
  },
  {
   "cell_type": "code",
   "execution_count": null,
   "metadata": {},
   "outputs": [],
   "source": []
  }
 ],
 "metadata": {
  "kernelspec": {
   "display_name": "Python 3",
   "language": "python",
   "name": "python3"
  },
  "language_info": {
   "codemirror_mode": {
    "name": "ipython",
    "version": 3
   },
   "file_extension": ".py",
   "mimetype": "text/x-python",
   "name": "python",
   "nbconvert_exporter": "python",
   "pygments_lexer": "ipython3",
   "version": "3.7.9"
  },
  "toc": {
   "base_numbering": 1,
   "nav_menu": {},
   "number_sections": true,
   "sideBar": true,
   "skip_h1_title": false,
   "title_cell": "Table of Contents",
   "title_sidebar": "Contents",
   "toc_cell": false,
   "toc_position": {
    "height": "calc(100% - 180px)",
    "left": "10px",
    "top": "150px",
    "width": "165px"
   },
   "toc_section_display": true,
   "toc_window_display": true
  },
  "varInspector": {
   "cols": {
    "lenName": 16,
    "lenType": 16,
    "lenVar": 40
   },
   "kernels_config": {
    "python": {
     "delete_cmd_postfix": "",
     "delete_cmd_prefix": "del ",
     "library": "var_list.py",
     "varRefreshCmd": "print(var_dic_list())"
    },
    "r": {
     "delete_cmd_postfix": ") ",
     "delete_cmd_prefix": "rm(",
     "library": "var_list.r",
     "varRefreshCmd": "cat(var_dic_list()) "
    }
   },
   "types_to_exclude": [
    "module",
    "function",
    "builtin_function_or_method",
    "instance",
    "_Feature"
   ],
   "window_display": false
  }
 },
 "nbformat": 4,
 "nbformat_minor": 2
}
